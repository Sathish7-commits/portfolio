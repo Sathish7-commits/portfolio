{
 "cells": [
  {
   "cell_type": "markdown",
   "id": "a75f0ed2-91bf-4870-80b5-52a604556e64",
   "metadata": {},
   "source": [
    "<b><u>Data Dictionary\n",
    "\n",
    "Ticket #: Ticket number assigned to each complaint\n",
    "\n",
    "Customer Complaint: Description of complaint\n",
    "\n",
    "Date: Date of complaint\n",
    "\n",
    "Time: Time of complaint\n",
    "\n",
    "Received Via: Mode of communication of the complaint\n",
    "\n",
    "City: Customer city\n",
    "\n",
    "State: Customer state\n",
    "\n",
    "Zipcode: Customer zip\n",
    "\n",
    "Status: Status of complaint\n",
    "\n",
    "Filing on behalf of someone"
   ]
  },
  {
   "cell_type": "markdown",
   "id": "abc5319a-61a6-4b29-9525-13461748f896",
   "metadata": {},
   "source": [
    "<b><u>Analysis Task\n",
    "\n",
    "To perform these tasks, you can use any of the different Python libraries such as NumPy, SciPy, Pandas, scikit-learn, matplotlib, and BeautifulSoup.\n",
    "\n",
    "- Import data into Python environment.\n",
    "- Provide the trend chart for the number of complaints at monthly and daily granularity levels.\n",
    "- Provide a table with the frequency of complaint types.\n",
    "\n",
    "Which complaint types are maximum i.e., around internet, network issues, or across any other domains.\n",
    "- Create a new categorical variable with value as Open and Closed. Open & Pending is to be categorized as Open and Closed & Solved is to be categorized as Closed.\n",
    "- Provide state wise status of complaints in a stacked bar chart. Use the categorized variable from Q3. Provide insights on:\n",
    "\n",
    "Which state has the maximum complaints\n",
    "Which state has the highest percentage of unresolved complaints\n",
    "- Provide the percentage of complaints resolved till date, which were received through the Internet and customer care calls.\n",
    "\n",
    "The analysis results to be provided with insights wherever applicable."
   ]
  },
  {
   "cell_type": "code",
   "execution_count": 26,
   "id": "3087732d-ced5-4972-8ede-784c487345aa",
   "metadata": {},
   "outputs": [],
   "source": [
    "import pandas as pd\n",
    "import numpy as np\n",
    "import matplotlib.pyplot as plt\n",
    "import seaborn as sns"
   ]
  },
  {
   "cell_type": "code",
   "execution_count": 27,
   "id": "c8155a5a-af6f-4939-b808-7bab4ef30321",
   "metadata": {},
   "outputs": [],
   "source": [
    "df = pd.read_csv('C:/Users/sathi/Downloads/1568699544_comcast_telecom_complaints_data/Comcast_telecom_complaints_data.csv')"
   ]
  },
  {
   "cell_type": "code",
   "execution_count": 28,
   "id": "4cf6b4c5-845b-479f-bf78-6db2d494d37c",
   "metadata": {},
   "outputs": [
    {
     "data": {
      "text/html": [
       "<div>\n",
       "<style scoped>\n",
       "    .dataframe tbody tr th:only-of-type {\n",
       "        vertical-align: middle;\n",
       "    }\n",
       "\n",
       "    .dataframe tbody tr th {\n",
       "        vertical-align: top;\n",
       "    }\n",
       "\n",
       "    .dataframe thead th {\n",
       "        text-align: right;\n",
       "    }\n",
       "</style>\n",
       "<table border=\"1\" class=\"dataframe\">\n",
       "  <thead>\n",
       "    <tr style=\"text-align: right;\">\n",
       "      <th></th>\n",
       "      <th>Ticket #</th>\n",
       "      <th>Customer Complaint</th>\n",
       "      <th>Date</th>\n",
       "      <th>Date_month_year</th>\n",
       "      <th>Time</th>\n",
       "      <th>Received Via</th>\n",
       "      <th>City</th>\n",
       "      <th>State</th>\n",
       "      <th>Zip code</th>\n",
       "      <th>Status</th>\n",
       "      <th>Filing on Behalf of Someone</th>\n",
       "    </tr>\n",
       "  </thead>\n",
       "  <tbody>\n",
       "    <tr>\n",
       "      <th>0</th>\n",
       "      <td>250635</td>\n",
       "      <td>Comcast Cable Internet Speeds</td>\n",
       "      <td>22-04-15</td>\n",
       "      <td>22-Apr-15</td>\n",
       "      <td>3:53:50 PM</td>\n",
       "      <td>Customer Care Call</td>\n",
       "      <td>Abingdon</td>\n",
       "      <td>Maryland</td>\n",
       "      <td>21009</td>\n",
       "      <td>Closed</td>\n",
       "      <td>No</td>\n",
       "    </tr>\n",
       "    <tr>\n",
       "      <th>1</th>\n",
       "      <td>223441</td>\n",
       "      <td>Payment disappear - service got disconnected</td>\n",
       "      <td>04-08-15</td>\n",
       "      <td>04-Aug-15</td>\n",
       "      <td>10:22:56 AM</td>\n",
       "      <td>Internet</td>\n",
       "      <td>Acworth</td>\n",
       "      <td>Georgia</td>\n",
       "      <td>30102</td>\n",
       "      <td>Closed</td>\n",
       "      <td>No</td>\n",
       "    </tr>\n",
       "  </tbody>\n",
       "</table>\n",
       "</div>"
      ],
      "text/plain": [
       "  Ticket #                            Customer Complaint      Date  \\\n",
       "0   250635                 Comcast Cable Internet Speeds  22-04-15   \n",
       "1   223441  Payment disappear - service got disconnected  04-08-15   \n",
       "\n",
       "  Date_month_year         Time        Received Via      City     State  \\\n",
       "0       22-Apr-15   3:53:50 PM  Customer Care Call  Abingdon  Maryland   \n",
       "1       04-Aug-15  10:22:56 AM            Internet   Acworth   Georgia   \n",
       "\n",
       "   Zip code  Status Filing on Behalf of Someone  \n",
       "0     21009  Closed                          No  \n",
       "1     30102  Closed                          No  "
      ]
     },
     "execution_count": 28,
     "metadata": {},
     "output_type": "execute_result"
    }
   ],
   "source": [
    "df.head(2)"
   ]
  },
  {
   "cell_type": "code",
   "execution_count": 4,
   "id": "5f8b878d-f50d-46ff-abef-387ad18d5948",
   "metadata": {},
   "outputs": [
    {
     "name": "stdout",
     "output_type": "stream",
     "text": [
      "<class 'pandas.core.frame.DataFrame'>\n",
      "RangeIndex: 2224 entries, 0 to 2223\n",
      "Data columns (total 11 columns):\n",
      " #   Column                       Non-Null Count  Dtype \n",
      "---  ------                       --------------  ----- \n",
      " 0   Ticket #                     2224 non-null   object\n",
      " 1   Customer Complaint           2224 non-null   object\n",
      " 2   Date                         2224 non-null   object\n",
      " 3   Date_month_year              2224 non-null   object\n",
      " 4   Time                         2224 non-null   object\n",
      " 5   Received Via                 2224 non-null   object\n",
      " 6   City                         2224 non-null   object\n",
      " 7   State                        2224 non-null   object\n",
      " 8   Zip code                     2224 non-null   int64 \n",
      " 9   Status                       2224 non-null   object\n",
      " 10  Filing on Behalf of Someone  2224 non-null   object\n",
      "dtypes: int64(1), object(10)\n",
      "memory usage: 191.2+ KB\n"
     ]
    }
   ],
   "source": [
    "df.info()"
   ]
  },
  {
   "cell_type": "markdown",
   "id": "b8b60df3-1ad6-4090-b061-f860e75cd4e0",
   "metadata": {},
   "source": [
    "<b><u>Data Analysis</b></u><br>\n",
    "        We'll clean the data, analyse and then perform feature engineering on the resultant raw data and transform into a clean dataset,then we'll move onto the feature selection.\n",
    "\n"
   ]
  },
  {
   "cell_type": "markdown",
   "id": "18a92f90-30a4-4410-ab40-f1a9ea69e2f9",
   "metadata": {},
   "source": [
    "<b>1. Missing Values"
   ]
  },
  {
   "cell_type": "code",
   "execution_count": 5,
   "id": "c77a9e67-98ed-4e7a-9c5c-895520f9f04a",
   "metadata": {},
   "outputs": [
    {
     "data": {
      "text/plain": [
       "[]"
      ]
     },
     "execution_count": 5,
     "metadata": {},
     "output_type": "execute_result"
    }
   ],
   "source": [
    "# Columns with null values\n",
    "[column for column in df.columns if sum(df[column].isnull())>0 ]"
   ]
  },
  {
   "cell_type": "code",
   "execution_count": 6,
   "id": "465f1460-d481-4bac-981b-9f8bf1787380",
   "metadata": {},
   "outputs": [
    {
     "data": {
      "text/plain": [
       "[]"
      ]
     },
     "execution_count": 6,
     "metadata": {},
     "output_type": "execute_result"
    }
   ],
   "source": [
    "[column for column in df.columns if sum(df[column].isna())>0 ]"
   ]
  },
  {
   "cell_type": "markdown",
   "id": "58f1a22a-6779-471f-8839-bf043d6698de",
   "metadata": {},
   "source": [
    "There are no null and NA values in any of the columns"
   ]
  },
  {
   "cell_type": "code",
   "execution_count": 7,
   "id": "3af9211d-3c54-45c5-bc9b-71e13ab7730b",
   "metadata": {},
   "outputs": [
    {
     "data": {
      "text/plain": [
       "1416    04-Apr-15\n",
       "1483    04-Apr-15\n",
       "584     04-Apr-15\n",
       "561     04-Apr-15\n",
       "1892    04-Apr-15\n",
       "          ...    \n",
       "634     31-May-15\n",
       "668     31-May-15\n",
       "329     31-May-15\n",
       "874     31-May-15\n",
       "464     31-May-15\n",
       "Name: Date_month_year, Length: 2224, dtype: object"
      ]
     },
     "execution_count": 7,
     "metadata": {},
     "output_type": "execute_result"
    }
   ],
   "source": [
    "df['Date_month_year'].sort_values()"
   ]
  },
  {
   "cell_type": "code",
   "execution_count": 8,
   "id": "aa3fdbed-a8e3-4e25-bf9c-4bba3e84393b",
   "metadata": {},
   "outputs": [],
   "source": [
    "for index in range(len(df)):\n",
    "    df['month'] = df['Date_month_year'].sort_values()[index][3:6]"
   ]
  },
  {
   "cell_type": "code",
   "execution_count": 9,
   "id": "990bf0c4-97cb-4eea-bb8f-e59af1a5a29b",
   "metadata": {},
   "outputs": [
    {
     "data": {
      "text/plain": [
       "1"
      ]
     },
     "execution_count": 9,
     "metadata": {},
     "output_type": "execute_result"
    }
   ],
   "source": [
    "df['month'].nunique()"
   ]
  },
  {
   "cell_type": "code",
   "execution_count": 10,
   "id": "025a2003-c665-4ab2-b7ef-63c5317aa629",
   "metadata": {},
   "outputs": [],
   "source": [
    "df.drop('month',axis=1,inplace=True)"
   ]
  },
  {
   "cell_type": "code",
   "execution_count": 11,
   "id": "ac660c6a-b470-4705-8d29-27f05825f1e0",
   "metadata": {},
   "outputs": [],
   "source": [
    "df['Date_month_year']= pd.to_datetime(df['Date_month_year'],format='%d-%b-%y')"
   ]
  },
  {
   "cell_type": "code",
   "execution_count": 12,
   "id": "186e04d3-5a4a-4f89-8126-4714fb4a0c87",
   "metadata": {},
   "outputs": [],
   "source": [
    "df['month'] = df['Date_month_year'].dt.month_name()"
   ]
  },
  {
   "cell_type": "code",
   "execution_count": 13,
   "id": "09685936-d81d-491b-91a7-6100c74fe747",
   "metadata": {},
   "outputs": [
    {
     "data": {
      "text/html": [
       "<div>\n",
       "<style scoped>\n",
       "    .dataframe tbody tr th:only-of-type {\n",
       "        vertical-align: middle;\n",
       "    }\n",
       "\n",
       "    .dataframe tbody tr th {\n",
       "        vertical-align: top;\n",
       "    }\n",
       "\n",
       "    .dataframe thead th {\n",
       "        text-align: right;\n",
       "    }\n",
       "</style>\n",
       "<table border=\"1\" class=\"dataframe\">\n",
       "  <thead>\n",
       "    <tr style=\"text-align: right;\">\n",
       "      <th></th>\n",
       "      <th>Ticket #</th>\n",
       "      <th>Customer Complaint</th>\n",
       "      <th>Date</th>\n",
       "      <th>Date_month_year</th>\n",
       "      <th>Time</th>\n",
       "      <th>Received Via</th>\n",
       "      <th>City</th>\n",
       "      <th>State</th>\n",
       "      <th>Zip code</th>\n",
       "      <th>Status</th>\n",
       "      <th>Filing on Behalf of Someone</th>\n",
       "      <th>month</th>\n",
       "    </tr>\n",
       "  </thead>\n",
       "  <tbody>\n",
       "    <tr>\n",
       "      <th>0</th>\n",
       "      <td>250635</td>\n",
       "      <td>Comcast Cable Internet Speeds</td>\n",
       "      <td>22-04-15</td>\n",
       "      <td>2015-04-22</td>\n",
       "      <td>3:53:50 PM</td>\n",
       "      <td>Customer Care Call</td>\n",
       "      <td>Abingdon</td>\n",
       "      <td>Maryland</td>\n",
       "      <td>21009</td>\n",
       "      <td>Closed</td>\n",
       "      <td>No</td>\n",
       "      <td>April</td>\n",
       "    </tr>\n",
       "    <tr>\n",
       "      <th>1</th>\n",
       "      <td>223441</td>\n",
       "      <td>Payment disappear - service got disconnected</td>\n",
       "      <td>04-08-15</td>\n",
       "      <td>2015-08-04</td>\n",
       "      <td>10:22:56 AM</td>\n",
       "      <td>Internet</td>\n",
       "      <td>Acworth</td>\n",
       "      <td>Georgia</td>\n",
       "      <td>30102</td>\n",
       "      <td>Closed</td>\n",
       "      <td>No</td>\n",
       "      <td>August</td>\n",
       "    </tr>\n",
       "    <tr>\n",
       "      <th>2</th>\n",
       "      <td>242732</td>\n",
       "      <td>Speed and Service</td>\n",
       "      <td>18-04-15</td>\n",
       "      <td>2015-04-18</td>\n",
       "      <td>9:55:47 AM</td>\n",
       "      <td>Internet</td>\n",
       "      <td>Acworth</td>\n",
       "      <td>Georgia</td>\n",
       "      <td>30101</td>\n",
       "      <td>Closed</td>\n",
       "      <td>Yes</td>\n",
       "      <td>April</td>\n",
       "    </tr>\n",
       "    <tr>\n",
       "      <th>3</th>\n",
       "      <td>277946</td>\n",
       "      <td>Comcast Imposed a New Usage Cap of 300GB that ...</td>\n",
       "      <td>05-07-15</td>\n",
       "      <td>2015-07-05</td>\n",
       "      <td>11:59:35 AM</td>\n",
       "      <td>Internet</td>\n",
       "      <td>Acworth</td>\n",
       "      <td>Georgia</td>\n",
       "      <td>30101</td>\n",
       "      <td>Open</td>\n",
       "      <td>Yes</td>\n",
       "      <td>July</td>\n",
       "    </tr>\n",
       "    <tr>\n",
       "      <th>4</th>\n",
       "      <td>307175</td>\n",
       "      <td>Comcast not working and no service to boot</td>\n",
       "      <td>26-05-15</td>\n",
       "      <td>2015-05-26</td>\n",
       "      <td>1:25:26 PM</td>\n",
       "      <td>Internet</td>\n",
       "      <td>Acworth</td>\n",
       "      <td>Georgia</td>\n",
       "      <td>30101</td>\n",
       "      <td>Solved</td>\n",
       "      <td>No</td>\n",
       "      <td>May</td>\n",
       "    </tr>\n",
       "  </tbody>\n",
       "</table>\n",
       "</div>"
      ],
      "text/plain": [
       "  Ticket #                                 Customer Complaint      Date  \\\n",
       "0   250635                      Comcast Cable Internet Speeds  22-04-15   \n",
       "1   223441       Payment disappear - service got disconnected  04-08-15   \n",
       "2   242732                                  Speed and Service  18-04-15   \n",
       "3   277946  Comcast Imposed a New Usage Cap of 300GB that ...  05-07-15   \n",
       "4   307175         Comcast not working and no service to boot  26-05-15   \n",
       "\n",
       "  Date_month_year         Time        Received Via      City     State  \\\n",
       "0      2015-04-22   3:53:50 PM  Customer Care Call  Abingdon  Maryland   \n",
       "1      2015-08-04  10:22:56 AM            Internet   Acworth   Georgia   \n",
       "2      2015-04-18   9:55:47 AM            Internet   Acworth   Georgia   \n",
       "3      2015-07-05  11:59:35 AM            Internet   Acworth   Georgia   \n",
       "4      2015-05-26   1:25:26 PM            Internet   Acworth   Georgia   \n",
       "\n",
       "   Zip code  Status Filing on Behalf of Someone   month  \n",
       "0     21009  Closed                          No   April  \n",
       "1     30102  Closed                          No  August  \n",
       "2     30101  Closed                         Yes   April  \n",
       "3     30101    Open                         Yes    July  \n",
       "4     30101  Solved                          No     May  "
      ]
     },
     "execution_count": 13,
     "metadata": {},
     "output_type": "execute_result"
    }
   ],
   "source": [
    "df.head()"
   ]
  },
  {
   "cell_type": "code",
   "execution_count": 14,
   "id": "a0c55a34-9d03-40e2-a6ef-1dc47194e3a3",
   "metadata": {},
   "outputs": [
    {
     "data": {
      "image/png": "[encoded data removed]",
      "text/plain": [
       "<Figure size 720x216 with 1 Axes>"
      ]
     },
     "metadata": {
      "needs_background": "light"
     },
     "output_type": "display_data"
    }
   ],
   "source": [
    "fig,ax = plt.subplots(figsize=(10,3))\n",
    "ax.plot(df.groupby('month')['Ticket #'].count())\n",
    "fig.tight_layout()"
   ]
  },
  {
   "cell_type": "code",
   "execution_count": 15,
   "id": "99680d75-3432-44ec-994d-b2763e0c38f7",
   "metadata": {},
   "outputs": [
    {
     "data": {
      "text/plain": [
       "[<matplotlib.lines.Line2D at 0x2651b73e790>]"
      ]
     },
     "execution_count": 15,
     "metadata": {},
     "output_type": "execute_result"
    },
    {
     "data": {
      "image/png": "[encoded data removed]",
      "text/plain": [
       "<Figure size 864x360 with 1 Axes>"
      ]
     },
     "metadata": {
      "needs_background": "light"
     },
     "output_type": "display_data"
    }
   ],
   "source": [
    "fig, ax = plt.subplots(figsize=(12,5))\n",
    "ax.plot(df.groupby('Date_month_year')['Ticket #'].count())"
   ]
  },
  {
   "cell_type": "code",
   "execution_count": 16,
   "id": "fca764da-686f-474b-8f24-dc7b38b28b53",
   "metadata": {},
   "outputs": [],
   "source": [
    "complaint_types = pd.DataFrame(df['Customer Complaint'].value_counts())"
   ]
  },
  {
   "cell_type": "code",
   "execution_count": 17,
   "id": "e15b0d50-d7c3-4f40-8cef-ca38de10f3e9",
   "metadata": {},
   "outputs": [],
   "source": [
    "complaint_types.reset_index(inplace=True)"
   ]
  },
  {
   "cell_type": "code",
   "execution_count": 18,
   "id": "2698f161-3ba7-4ed7-9370-fd326524022b",
   "metadata": {},
   "outputs": [],
   "source": [
    "complaint_types.rename(columns={'index':'Complaint Type','Customer Complaint':'Count'},inplace=True)"
   ]
  },
  {
   "cell_type": "code",
   "execution_count": 19,
   "id": "c2e27df2-556f-4e6a-ac71-6a170d433cbf",
   "metadata": {},
   "outputs": [
    {
     "data": {
      "text/html": [
       "<div>\n",
       "<style scoped>\n",
       "    .dataframe tbody tr th:only-of-type {\n",
       "        vertical-align: middle;\n",
       "    }\n",
       "\n",
       "    .dataframe tbody tr th {\n",
       "        vertical-align: top;\n",
       "    }\n",
       "\n",
       "    .dataframe thead th {\n",
       "        text-align: right;\n",
       "    }\n",
       "</style>\n",
       "<table border=\"1\" class=\"dataframe\">\n",
       "  <thead>\n",
       "    <tr style=\"text-align: right;\">\n",
       "      <th></th>\n",
       "      <th>Complaint Type</th>\n",
       "      <th>Count</th>\n",
       "    </tr>\n",
       "  </thead>\n",
       "  <tbody>\n",
       "    <tr>\n",
       "      <th>0</th>\n",
       "      <td>Comcast</td>\n",
       "      <td>83</td>\n",
       "    </tr>\n",
       "    <tr>\n",
       "      <th>1</th>\n",
       "      <td>Comcast Internet</td>\n",
       "      <td>18</td>\n",
       "    </tr>\n",
       "    <tr>\n",
       "      <th>2</th>\n",
       "      <td>Comcast Data Cap</td>\n",
       "      <td>17</td>\n",
       "    </tr>\n",
       "    <tr>\n",
       "      <th>3</th>\n",
       "      <td>comcast</td>\n",
       "      <td>13</td>\n",
       "    </tr>\n",
       "    <tr>\n",
       "      <th>4</th>\n",
       "      <td>Comcast Data Caps</td>\n",
       "      <td>11</td>\n",
       "    </tr>\n",
       "  </tbody>\n",
       "</table>\n",
       "</div>"
      ],
      "text/plain": [
       "      Complaint Type  Count\n",
       "0            Comcast     83\n",
       "1   Comcast Internet     18\n",
       "2   Comcast Data Cap     17\n",
       "3            comcast     13\n",
       "4  Comcast Data Caps     11"
      ]
     },
     "execution_count": 19,
     "metadata": {},
     "output_type": "execute_result"
    }
   ],
   "source": [
    "complaint_types.head()"
   ]
  },
  {
   "cell_type": "code",
   "execution_count": 35,
   "id": "ed4e06db-547d-4e97-a47c-0cc844cc611d",
   "metadata": {},
   "outputs": [
    {
     "data": {
      "text/plain": [
       "Closed    1707\n",
       "Open       517\n",
       "Name: Status, dtype: int64"
      ]
     },
     "execution_count": 35,
     "metadata": {},
     "output_type": "execute_result"
    }
   ],
   "source": [
    "df['Status'].value_counts()"
   ]
  },
  {
   "cell_type": "code",
   "execution_count": 33,
   "id": "6ab9151d-d58d-4f23-ae75-ceff520f2d65",
   "metadata": {},
   "outputs": [],
   "source": [
    "df.loc[(df['Status'] == 'Solved') | (df['Status'] == 'Closed'), 'Status'] = 'Closed'  "
   ]
  },
  {
   "cell_type": "code",
   "execution_count": 34,
   "id": "b2b17737-cefc-498e-86fa-83cc469c9dd9",
   "metadata": {},
   "outputs": [],
   "source": [
    "df.loc[(df['Status']=='Open') | (df['Status']=='Pending'),'Status'] = 'Open'"
   ]
  },
  {
   "cell_type": "code",
   "execution_count": 68,
   "id": "60cceab6-3f6e-4b51-87ad-6045c15ebbe7",
   "metadata": {},
   "outputs": [
    {
     "data": {
      "text/html": [
       "<div>\n",
       "<style scoped>\n",
       "    .dataframe tbody tr th:only-of-type {\n",
       "        vertical-align: middle;\n",
       "    }\n",
       "\n",
       "    .dataframe tbody tr th {\n",
       "        vertical-align: top;\n",
       "    }\n",
       "\n",
       "    .dataframe thead th {\n",
       "        text-align: right;\n",
       "    }\n",
       "</style>\n",
       "<table border=\"1\" class=\"dataframe\">\n",
       "  <thead>\n",
       "    <tr style=\"text-align: right;\">\n",
       "      <th></th>\n",
       "      <th>State</th>\n",
       "      <th>Status</th>\n",
       "      <th>Counts</th>\n",
       "    </tr>\n",
       "  </thead>\n",
       "  <tbody>\n",
       "    <tr>\n",
       "      <th>0</th>\n",
       "      <td>Alabama</td>\n",
       "      <td>Closed</td>\n",
       "      <td>17</td>\n",
       "    </tr>\n",
       "    <tr>\n",
       "      <th>1</th>\n",
       "      <td>Alabama</td>\n",
       "      <td>Open</td>\n",
       "      <td>9</td>\n",
       "    </tr>\n",
       "    <tr>\n",
       "      <th>2</th>\n",
       "      <td>Arizona</td>\n",
       "      <td>Closed</td>\n",
       "      <td>14</td>\n",
       "    </tr>\n",
       "    <tr>\n",
       "      <th>3</th>\n",
       "      <td>Arizona</td>\n",
       "      <td>Open</td>\n",
       "      <td>6</td>\n",
       "    </tr>\n",
       "    <tr>\n",
       "      <th>4</th>\n",
       "      <td>Arkansas</td>\n",
       "      <td>Closed</td>\n",
       "      <td>6</td>\n",
       "    </tr>\n",
       "    <tr>\n",
       "      <th>...</th>\n",
       "      <td>...</td>\n",
       "      <td>...</td>\n",
       "      <td>...</td>\n",
       "    </tr>\n",
       "    <tr>\n",
       "      <th>72</th>\n",
       "      <td>Virginia</td>\n",
       "      <td>Open</td>\n",
       "      <td>11</td>\n",
       "    </tr>\n",
       "    <tr>\n",
       "      <th>73</th>\n",
       "      <td>Washington</td>\n",
       "      <td>Closed</td>\n",
       "      <td>75</td>\n",
       "    </tr>\n",
       "    <tr>\n",
       "      <th>74</th>\n",
       "      <td>Washington</td>\n",
       "      <td>Open</td>\n",
       "      <td>23</td>\n",
       "    </tr>\n",
       "    <tr>\n",
       "      <th>75</th>\n",
       "      <td>West Virginia</td>\n",
       "      <td>Closed</td>\n",
       "      <td>8</td>\n",
       "    </tr>\n",
       "    <tr>\n",
       "      <th>76</th>\n",
       "      <td>West Virginia</td>\n",
       "      <td>Open</td>\n",
       "      <td>3</td>\n",
       "    </tr>\n",
       "  </tbody>\n",
       "</table>\n",
       "<p>77 rows × 3 columns</p>\n",
       "</div>"
      ],
      "text/plain": [
       "            State  Status  Counts\n",
       "0         Alabama  Closed      17\n",
       "1         Alabama    Open       9\n",
       "2         Arizona  Closed      14\n",
       "3         Arizona    Open       6\n",
       "4        Arkansas  Closed       6\n",
       "..            ...     ...     ...\n",
       "72       Virginia    Open      11\n",
       "73     Washington  Closed      75\n",
       "74     Washington    Open      23\n",
       "75  West Virginia  Closed       8\n",
       "76  West Virginia    Open       3\n",
       "\n",
       "[77 rows x 3 columns]"
      ]
     },
     "execution_count": 68,
     "metadata": {},
     "output_type": "execute_result"
    }
   ],
   "source": [
    "df.groupby('State')['Status'].value_counts().rename('Counts').reset_index()"
   ]
  },
  {
   "cell_type": "code",
   "execution_count": 23,
   "id": "d29b1a91-e80a-4a38-a374-9eea4aed02ef",
   "metadata": {},
   "outputs": [
    {
     "data": {
      "text/html": [
       "<div>\n",
       "<style scoped>\n",
       "    .dataframe tbody tr th:only-of-type {\n",
       "        vertical-align: middle;\n",
       "    }\n",
       "\n",
       "    .dataframe tbody tr th {\n",
       "        vertical-align: top;\n",
       "    }\n",
       "\n",
       "    .dataframe thead th {\n",
       "        text-align: right;\n",
       "    }\n",
       "</style>\n",
       "<table border=\"1\" class=\"dataframe\">\n",
       "  <thead>\n",
       "    <tr style=\"text-align: right;\">\n",
       "      <th></th>\n",
       "      <th></th>\n",
       "      <th>Status</th>\n",
       "    </tr>\n",
       "    <tr>\n",
       "      <th>State</th>\n",
       "      <th>Status</th>\n",
       "      <th></th>\n",
       "    </tr>\n",
       "  </thead>\n",
       "  <tbody>\n",
       "    <tr>\n",
       "      <th rowspan=\"2\" valign=\"top\">Alabama</th>\n",
       "      <th>Closed</th>\n",
       "      <td>17</td>\n",
       "    </tr>\n",
       "    <tr>\n",
       "      <th>Open</th>\n",
       "      <td>9</td>\n",
       "    </tr>\n",
       "    <tr>\n",
       "      <th rowspan=\"2\" valign=\"top\">Arizona</th>\n",
       "      <th>Closed</th>\n",
       "      <td>14</td>\n",
       "    </tr>\n",
       "    <tr>\n",
       "      <th>Open</th>\n",
       "      <td>6</td>\n",
       "    </tr>\n",
       "    <tr>\n",
       "      <th>Arkansas</th>\n",
       "      <th>Closed</th>\n",
       "      <td>6</td>\n",
       "    </tr>\n",
       "  </tbody>\n",
       "</table>\n",
       "</div>"
      ],
      "text/plain": [
       "                 Status\n",
       "State    Status        \n",
       "Alabama  Closed      17\n",
       "         Open         9\n",
       "Arizona  Closed      14\n",
       "         Open         6\n",
       "Arkansas Closed       6"
      ]
     },
     "execution_count": 23,
     "metadata": {},
     "output_type": "execute_result"
    }
   ],
   "source": [
    "new_df = pd.DataFrame(df.groupby('State')['Status'].value_counts())\n",
    "new_df.head()"
   ]
  },
  {
   "cell_type": "code",
   "execution_count": 24,
   "id": "50109d38-25ec-48c3-9515-1b1580f7220a",
   "metadata": {},
   "outputs": [
    {
     "data": {
      "text/plain": [
       "State          Status\n",
       "Alabama        Closed    17\n",
       "               Open       9\n",
       "Arizona        Closed    14\n",
       "               Open       6\n",
       "Arkansas       Closed     6\n",
       "                         ..\n",
       "Virginia       Open      11\n",
       "Washington     Closed    75\n",
       "               Open      23\n",
       "West Virginia  Closed     8\n",
       "               Open       3\n",
       "Name: Status, Length: 77, dtype: int64"
      ]
     },
     "execution_count": 24,
     "metadata": {},
     "output_type": "execute_result"
    }
   ],
   "source": [
    "df.groupby('State')['Status'].value_counts()"
   ]
  },
  {
   "cell_type": "code",
   "execution_count": 124,
   "id": "ce47ebd7-6a25-4422-8026-c36f07001e87",
   "metadata": {},
   "outputs": [
    {
     "data": {
      "image/png": "[encoded data removed]",
      "text/plain": [
       "<Figure size 432x288 with 1 Axes>"
      ]
     },
     "metadata": {
      "needs_background": "light"
     },
     "output_type": "display_data"
    },
    {
     "data": {
      "text/plain": [
       "<Figure size 7200x1440 with 0 Axes>"
      ]
     },
     "metadata": {},
     "output_type": "display_data"
    }
   ],
   "source": [
    "ax = sns.histplot(data=df,x='State',hue='Status',binwidth=3)\n",
    "plt.tight_layout()\n",
    "plt.xticks(rotation=90)\n",
    "plt.figure(figsize=(100,20))\n",
    "for p in ax.patches:\n",
    "    ax.annotate(\"%.2f\" % p.get_height(), (p.get_x() + p.get_width() / 2., p.get_height()),\n",
    "         ha='center', va='center', rotation=90, xytext=(0, 20), textcoords='offset points')  #vertical bars\n",
    "plt.tight_layout()"
   ]
  },
  {
   "cell_type": "markdown",
   "id": "b68d8b1b-2144-4b7f-bd99-7c6bfe54ac0d",
   "metadata": {},
   "source": [
    "Provide state wise status of complaints in a stacked bar chart. Use the categorized variable from Q3. Provide insights on:\n",
    "Which state has the maximum complaints Which state has the highest percentage of unresolved complaints\n",
    "\n",
    "Provide the percentage of complaints resolved till date, which were received through the Internet and customer care calls."
   ]
  },
  {
   "cell_type": "code",
   "execution_count": 134,
   "id": "7378c739-be6c-48ea-a506-2644b2f8c352",
   "metadata": {},
   "outputs": [
    {
     "name": "stdout",
     "output_type": "stream",
     "text": [
      "Georgia is the state with maximum complaints\n"
     ]
    }
   ],
   "source": [
    "print((df.groupby('State')['Status'].count()).idxmax(),'is the state with maximum complaints')"
   ]
  },
  {
   "cell_type": "code",
   "execution_count": 228,
   "id": "418239c8-8665-4b4d-a290-fe40f14bddb7",
   "metadata": {},
   "outputs": [
    {
     "data": {
      "text/plain": [
       "Georgia       80\n",
       "California    61\n",
       "Tennessee     47\n",
       "Florida       39\n",
       "Illinois      29\n",
       "Name: State, dtype: int64"
      ]
     },
     "execution_count": 228,
     "metadata": {},
     "output_type": "execute_result"
    }
   ],
   "source": [
    "df[df['Status']=='Open']['State'].value_counts().sort_values(ascending = False).head()"
   ]
  },
  {
   "cell_type": "code",
   "execution_count": 227,
   "id": "ff3a4af4-0504-4db7-a732-f5e9472715f9",
   "metadata": {},
   "outputs": [
    {
     "name": "stdout",
     "output_type": "stream",
     "text": [
      "Kansas  has the highest % of Open Tickets\n"
     ]
    }
   ],
   "source": [
    "print(((df[df['Status']=='Open']['State'].value_counts().sort_values(ascending = True)/df['State'].value_counts())*100).sort_values(ascending=False).idxmax(), ' has the highest % of Open Tickets')"
   ]
  },
  {
   "cell_type": "markdown",
   "id": "7d4ad310-50da-4651-b44a-f27d13cd96aa",
   "metadata": {},
   "source": [
    "<b>Provide the percentage of complaints resolved till date, which were received through the Internet and customer care calls."
   ]
  },
  {
   "cell_type": "code",
   "execution_count": 221,
   "id": "93255537-6b47-4b6f-81b3-4c8b9e962870",
   "metadata": {},
   "outputs": [
    {
     "name": "stdout",
     "output_type": "stream",
     "text": [
      "51.0 % of Complaints that were resolved was received through Customer Care Call\n"
     ]
    }
   ],
   "source": [
    "print(np.round((len(df[(df['Received Via']=='Customer Care Call') & (df['Status']=='Closed')])/len((df[df['Status']=='Closed'])))*100),'% of Complaints that were resolved was received through Customer Care Call')"
   ]
  },
  {
   "cell_type": "code",
   "execution_count": 225,
   "id": "bfa524fe-810e-4be2-a9ec-0af9c7c01686",
   "metadata": {},
   "outputs": [
    {
     "name": "stdout",
     "output_type": "stream",
     "text": [
      "49.0 % of Complaints that were resolved was received through Internet\n"
     ]
    }
   ],
   "source": [
    "print(np.round(len(df[(df['Received Via']=='Internet') & (df['Status']=='Closed')])/len((df[df['Status']=='Closed']))*100),'% of Complaints that were resolved was received through Internet')"
   ]
  }
 ],
 "metadata": {
  "kernelspec": {
   "display_name": "Python 3",
   "language": "python",
   "name": "python3"
  },
  "language_info": {
   "codemirror_mode": {
    "name": "ipython",
    "version": 3
   },
   "file_extension": ".py",
   "mimetype": "text/x-python",
   "name": "python",
   "nbconvert_exporter": "python",
   "pygments_lexer": "ipython3",
   "version": "3.8.8"
  }
 },
 "nbformat": 4,
 "nbformat_minor": 5
}
