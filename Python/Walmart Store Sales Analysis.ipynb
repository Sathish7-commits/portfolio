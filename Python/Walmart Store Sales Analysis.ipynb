{
 "cells": [
  {
   "cell_type": "code",
   "execution_count": 4,
   "id": "ad2d4465-f360-47f5-97e0-307a18cd99dd",
   "metadata": {},
   "outputs": [],
   "source": [
    "import pandas as pd\n",
    "import numpy as np\n",
    "import matplotlib.pyplot as plt\n",
    "import seaborn as sns\n",
    "%matplotlib inline"
   ]
  },
  {
   "cell_type": "code",
   "execution_count": 5,
   "id": "f9e7d100-3a43-45e3-af8d-c99966b00e40",
   "metadata": {},
   "outputs": [],
   "source": [
    "df = pd.read_csv('C:/Users/sathi/Downloads/1577429980_walmart_store_sales/Walmart_Store_sales.csv')"
   ]
  },
  {
   "cell_type": "code",
   "execution_count": 6,
   "id": "94bd3d4d-af32-4b9e-afd7-c06a542dcd59",
   "metadata": {},
   "outputs": [
    {
     "data": {
      "text/html": [
       "<div>\n",
       "<style scoped>\n",
       "    .dataframe tbody tr th:only-of-type {\n",
       "        vertical-align: middle;\n",
       "    }\n",
       "\n",
       "    .dataframe tbody tr th {\n",
       "        vertical-align: top;\n",
       "    }\n",
       "\n",
       "    .dataframe thead th {\n",
       "        text-align: right;\n",
       "    }\n",
       "</style>\n",
       "<table border=\"1\" class=\"dataframe\">\n",
       "  <thead>\n",
       "    <tr style=\"text-align: right;\">\n",
       "      <th></th>\n",
       "      <th>Store</th>\n",
       "      <th>Date</th>\n",
       "      <th>Weekly_Sales</th>\n",
       "      <th>Holiday_Flag</th>\n",
       "      <th>Temperature</th>\n",
       "      <th>Fuel_Price</th>\n",
       "      <th>CPI</th>\n",
       "      <th>Unemployment</th>\n",
       "    </tr>\n",
       "  </thead>\n",
       "  <tbody>\n",
       "    <tr>\n",
       "      <th>0</th>\n",
       "      <td>1</td>\n",
       "      <td>05-02-2010</td>\n",
       "      <td>1643690.90</td>\n",
       "      <td>0</td>\n",
       "      <td>42.31</td>\n",
       "      <td>2.572</td>\n",
       "      <td>211.096358</td>\n",
       "      <td>8.106</td>\n",
       "    </tr>\n",
       "    <tr>\n",
       "      <th>1</th>\n",
       "      <td>1</td>\n",
       "      <td>12-02-2010</td>\n",
       "      <td>1641957.44</td>\n",
       "      <td>1</td>\n",
       "      <td>38.51</td>\n",
       "      <td>2.548</td>\n",
       "      <td>211.242170</td>\n",
       "      <td>8.106</td>\n",
       "    </tr>\n",
       "    <tr>\n",
       "      <th>2</th>\n",
       "      <td>1</td>\n",
       "      <td>19-02-2010</td>\n",
       "      <td>1611968.17</td>\n",
       "      <td>0</td>\n",
       "      <td>39.93</td>\n",
       "      <td>2.514</td>\n",
       "      <td>211.289143</td>\n",
       "      <td>8.106</td>\n",
       "    </tr>\n",
       "    <tr>\n",
       "      <th>3</th>\n",
       "      <td>1</td>\n",
       "      <td>26-02-2010</td>\n",
       "      <td>1409727.59</td>\n",
       "      <td>0</td>\n",
       "      <td>46.63</td>\n",
       "      <td>2.561</td>\n",
       "      <td>211.319643</td>\n",
       "      <td>8.106</td>\n",
       "    </tr>\n",
       "    <tr>\n",
       "      <th>4</th>\n",
       "      <td>1</td>\n",
       "      <td>05-03-2010</td>\n",
       "      <td>1554806.68</td>\n",
       "      <td>0</td>\n",
       "      <td>46.50</td>\n",
       "      <td>2.625</td>\n",
       "      <td>211.350143</td>\n",
       "      <td>8.106</td>\n",
       "    </tr>\n",
       "  </tbody>\n",
       "</table>\n",
       "</div>"
      ],
      "text/plain": [
       "   Store        Date  Weekly_Sales  Holiday_Flag  Temperature  Fuel_Price  \\\n",
       "0      1  05-02-2010    1643690.90             0        42.31       2.572   \n",
       "1      1  12-02-2010    1641957.44             1        38.51       2.548   \n",
       "2      1  19-02-2010    1611968.17             0        39.93       2.514   \n",
       "3      1  26-02-2010    1409727.59             0        46.63       2.561   \n",
       "4      1  05-03-2010    1554806.68             0        46.50       2.625   \n",
       "\n",
       "          CPI  Unemployment  \n",
       "0  211.096358         8.106  \n",
       "1  211.242170         8.106  \n",
       "2  211.289143         8.106  \n",
       "3  211.319643         8.106  \n",
       "4  211.350143         8.106  "
      ]
     },
     "execution_count": 6,
     "metadata": {},
     "output_type": "execute_result"
    }
   ],
   "source": [
    "df.head()"
   ]
  },
  {
   "cell_type": "markdown",
   "id": "10ddc160-b981-4dd6-af35-a83a2604c165",
   "metadata": {},
   "source": [
    "Analysis Tasks - Basic Statistics tasks\n",
    "\n",
    "1.Which store has maximum sales\n",
    "\n",
    "2.Which store has maximum standard deviation i.e., the sales vary a lot. Also, find out the coefficient of mean to standard deviation\n",
    "\n",
    "3.Which store/s has good quarterly growth rate in Q3’2012\n",
    "\n",
    "4.Some holidays have a negative impact on sales. Find out holidays which have higher sales than the mean sales in non-holiday season for all stores together\n",
    "\n",
    "5.Provide a monthly and semester view of sales in units and give insights"
   ]
  },
  {
   "cell_type": "code",
   "execution_count": 7,
   "id": "0a4d1988-d075-49d0-b6b8-d49328b9f809",
   "metadata": {},
   "outputs": [
    {
     "name": "stdout",
     "output_type": "stream",
     "text": [
      "\u001b[1m 1. The Store 20 has the maximum sales which sums up to 301397792.46000004\n"
     ]
    }
   ],
   "source": [
    "#1.Which store has maximum sales\n",
    "df_grouped = df.groupby('Store')['Weekly_Sales'].sum()\n",
    "print('\\033[1m 1. The Store',df_grouped.idxmax(),'has the maximum sales which sums up to',max(df.groupby('Store')['Weekly_Sales'].sum()))"
   ]
  },
  {
   "cell_type": "code",
   "execution_count": 8,
   "id": "9bd18a37-33f4-49f4-8081-c20c36cc3d30",
   "metadata": {},
   "outputs": [],
   "source": [
    "df_std = pd.DataFrame(df.groupby('Store').agg({'Weekly_Sales':['std','mean']}))"
   ]
  },
  {
   "cell_type": "code",
   "execution_count": 9,
   "id": "c8788feb-6f68-4362-b25b-fd10efac7d1e",
   "metadata": {},
   "outputs": [
    {
     "data": {
      "text/plain": [
       "Weekly_Sales  std     14\n",
       "              mean    20\n",
       "dtype: int64"
      ]
     },
     "execution_count": 9,
     "metadata": {},
     "output_type": "execute_result"
    }
   ],
   "source": [
    "df_std.idxmax()"
   ]
  },
  {
   "cell_type": "code",
   "execution_count": 10,
   "id": "615f5134-1a20-4030-b63c-c4ac0b5bc8da",
   "metadata": {
    "tags": []
   },
   "outputs": [
    {
     "name": "stdout",
     "output_type": "stream",
     "text": [
      "\u001b[1m 2. The store 14 has the maximum standard deviation\n"
     ]
    }
   ],
   "source": [
    "#2.Which store has maximum standard deviation i.e., the sales vary a lot. Also, find out the coefficient of mean to standard deviation\n",
    "print('\\033[1m 2. The store',df_std[('Weekly_Sales',  'std')].idxmax(),'has the maximum standard deviation')"
   ]
  },
  {
   "cell_type": "code",
   "execution_count": 11,
   "id": "a8d825d9-9ad4-4339-bfdb-1698ba6de73d",
   "metadata": {},
   "outputs": [],
   "source": [
    "#2.Which store has maximum standard deviation i.e., the sales vary a lot. Also, find out the coefficient of mean to standard deviation\n",
    "df_std['CoV'] = df_std[('Weekly_Sales',  'std')]/df_std[('Weekly_Sales',  'mean')] * 100"
   ]
  },
  {
   "cell_type": "code",
   "execution_count": 12,
   "id": "49088669-3dab-42a3-adc2-59e7da555327",
   "metadata": {},
   "outputs": [
    {
     "data": {
      "text/html": [
       "<div>\n",
       "<style scoped>\n",
       "    .dataframe tbody tr th:only-of-type {\n",
       "        vertical-align: middle;\n",
       "    }\n",
       "\n",
       "    .dataframe tbody tr th {\n",
       "        vertical-align: top;\n",
       "    }\n",
       "\n",
       "    .dataframe thead tr th {\n",
       "        text-align: left;\n",
       "    }\n",
       "\n",
       "    .dataframe thead tr:last-of-type th {\n",
       "        text-align: right;\n",
       "    }\n",
       "</style>\n",
       "<table border=\"1\" class=\"dataframe\">\n",
       "  <thead>\n",
       "    <tr>\n",
       "      <th></th>\n",
       "      <th colspan=\"2\" halign=\"left\">Weekly_Sales</th>\n",
       "      <th>CoV</th>\n",
       "    </tr>\n",
       "    <tr>\n",
       "      <th></th>\n",
       "      <th>std</th>\n",
       "      <th>mean</th>\n",
       "      <th></th>\n",
       "    </tr>\n",
       "    <tr>\n",
       "      <th>Store</th>\n",
       "      <th></th>\n",
       "      <th></th>\n",
       "      <th></th>\n",
       "    </tr>\n",
       "  </thead>\n",
       "  <tbody>\n",
       "    <tr>\n",
       "      <th>1</th>\n",
       "      <td>155980.767761</td>\n",
       "      <td>1.555264e+06</td>\n",
       "      <td>10.029212</td>\n",
       "    </tr>\n",
       "    <tr>\n",
       "      <th>2</th>\n",
       "      <td>237683.694682</td>\n",
       "      <td>1.925751e+06</td>\n",
       "      <td>12.342388</td>\n",
       "    </tr>\n",
       "    <tr>\n",
       "      <th>3</th>\n",
       "      <td>46319.631557</td>\n",
       "      <td>4.027044e+05</td>\n",
       "      <td>11.502141</td>\n",
       "    </tr>\n",
       "    <tr>\n",
       "      <th>4</th>\n",
       "      <td>266201.442297</td>\n",
       "      <td>2.094713e+06</td>\n",
       "      <td>12.708254</td>\n",
       "    </tr>\n",
       "    <tr>\n",
       "      <th>5</th>\n",
       "      <td>37737.965745</td>\n",
       "      <td>3.180118e+05</td>\n",
       "      <td>11.866844</td>\n",
       "    </tr>\n",
       "  </tbody>\n",
       "</table>\n",
       "</div>"
      ],
      "text/plain": [
       "        Weekly_Sales                      CoV\n",
       "                 std          mean           \n",
       "Store                                        \n",
       "1      155980.767761  1.555264e+06  10.029212\n",
       "2      237683.694682  1.925751e+06  12.342388\n",
       "3       46319.631557  4.027044e+05  11.502141\n",
       "4      266201.442297  2.094713e+06  12.708254\n",
       "5       37737.965745  3.180118e+05  11.866844"
      ]
     },
     "execution_count": 12,
     "metadata": {},
     "output_type": "execute_result"
    }
   ],
   "source": [
    "df_std.head()"
   ]
  },
  {
   "cell_type": "code",
   "execution_count": 13,
   "id": "950d848e-3616-4726-bfe5-b15522941e6a",
   "metadata": {},
   "outputs": [],
   "source": [
    "df['Date'] =  pd.to_datetime(df['Date'], format='%d-%m-%Y')"
   ]
  },
  {
   "cell_type": "code",
   "execution_count": 14,
   "id": "517c4ce3-114e-42f6-b509-771408c04670",
   "metadata": {},
   "outputs": [
    {
     "data": {
      "text/plain": [
       "dtype('<M8[ns]')"
      ]
     },
     "execution_count": 14,
     "metadata": {},
     "output_type": "execute_result"
    }
   ],
   "source": [
    "df.Date.dtype"
   ]
  },
  {
   "cell_type": "code",
   "execution_count": 15,
   "id": "4e3ecd02-3325-431c-8749-81d0bb9f1557",
   "metadata": {},
   "outputs": [],
   "source": [
    "df['quarter'] = df['Date'].dt.quarter"
   ]
  },
  {
   "cell_type": "code",
   "execution_count": 113,
   "id": "c8b4f803-d4fc-427e-89d4-d17a17160209",
   "metadata": {},
   "outputs": [
    {
     "data": {
      "text/html": [
       "<div>\n",
       "<style scoped>\n",
       "    .dataframe tbody tr th:only-of-type {\n",
       "        vertical-align: middle;\n",
       "    }\n",
       "\n",
       "    .dataframe tbody tr th {\n",
       "        vertical-align: top;\n",
       "    }\n",
       "\n",
       "    .dataframe thead th {\n",
       "        text-align: right;\n",
       "    }\n",
       "</style>\n",
       "<table border=\"1\" class=\"dataframe\">\n",
       "  <thead>\n",
       "    <tr style=\"text-align: right;\">\n",
       "      <th></th>\n",
       "      <th>Store</th>\n",
       "      <th>Date</th>\n",
       "      <th>Weekly_Sales</th>\n",
       "      <th>Holiday_Flag</th>\n",
       "      <th>Temperature</th>\n",
       "      <th>Fuel_Price</th>\n",
       "      <th>CPI</th>\n",
       "      <th>Unemployment</th>\n",
       "      <th>quarter</th>\n",
       "    </tr>\n",
       "  </thead>\n",
       "  <tbody>\n",
       "    <tr>\n",
       "      <th>0</th>\n",
       "      <td>1</td>\n",
       "      <td>2010-02-05</td>\n",
       "      <td>1643690.90</td>\n",
       "      <td>0</td>\n",
       "      <td>42.31</td>\n",
       "      <td>2.572</td>\n",
       "      <td>211.096358</td>\n",
       "      <td>8.106</td>\n",
       "      <td>1</td>\n",
       "    </tr>\n",
       "    <tr>\n",
       "      <th>1</th>\n",
       "      <td>1</td>\n",
       "      <td>2010-02-12</td>\n",
       "      <td>1641957.44</td>\n",
       "      <td>1</td>\n",
       "      <td>38.51</td>\n",
       "      <td>2.548</td>\n",
       "      <td>211.242170</td>\n",
       "      <td>8.106</td>\n",
       "      <td>1</td>\n",
       "    </tr>\n",
       "    <tr>\n",
       "      <th>2</th>\n",
       "      <td>1</td>\n",
       "      <td>2010-02-19</td>\n",
       "      <td>1611968.17</td>\n",
       "      <td>0</td>\n",
       "      <td>39.93</td>\n",
       "      <td>2.514</td>\n",
       "      <td>211.289143</td>\n",
       "      <td>8.106</td>\n",
       "      <td>1</td>\n",
       "    </tr>\n",
       "    <tr>\n",
       "      <th>3</th>\n",
       "      <td>1</td>\n",
       "      <td>2010-02-26</td>\n",
       "      <td>1409727.59</td>\n",
       "      <td>0</td>\n",
       "      <td>46.63</td>\n",
       "      <td>2.561</td>\n",
       "      <td>211.319643</td>\n",
       "      <td>8.106</td>\n",
       "      <td>1</td>\n",
       "    </tr>\n",
       "    <tr>\n",
       "      <th>4</th>\n",
       "      <td>1</td>\n",
       "      <td>2010-03-05</td>\n",
       "      <td>1554806.68</td>\n",
       "      <td>0</td>\n",
       "      <td>46.50</td>\n",
       "      <td>2.625</td>\n",
       "      <td>211.350143</td>\n",
       "      <td>8.106</td>\n",
       "      <td>1</td>\n",
       "    </tr>\n",
       "  </tbody>\n",
       "</table>\n",
       "</div>"
      ],
      "text/plain": [
       "   Store       Date  Weekly_Sales  Holiday_Flag  Temperature  Fuel_Price  \\\n",
       "0      1 2010-02-05    1643690.90             0        42.31       2.572   \n",
       "1      1 2010-02-12    1641957.44             1        38.51       2.548   \n",
       "2      1 2010-02-19    1611968.17             0        39.93       2.514   \n",
       "3      1 2010-02-26    1409727.59             0        46.63       2.561   \n",
       "4      1 2010-03-05    1554806.68             0        46.50       2.625   \n",
       "\n",
       "          CPI  Unemployment  quarter  \n",
       "0  211.096358         8.106        1  \n",
       "1  211.242170         8.106        1  \n",
       "2  211.289143         8.106        1  \n",
       "3  211.319643         8.106        1  \n",
       "4  211.350143         8.106        1  "
      ]
     },
     "execution_count": 113,
     "metadata": {},
     "output_type": "execute_result"
    }
   ],
   "source": [
    "df.head()"
   ]
  },
  {
   "cell_type": "code",
   "execution_count": 17,
   "id": "7c2184cd-54c3-4439-aacc-212689478304",
   "metadata": {},
   "outputs": [
    {
     "data": {
      "text/html": [
       "<div>\n",
       "<style scoped>\n",
       "    .dataframe tbody tr th:only-of-type {\n",
       "        vertical-align: middle;\n",
       "    }\n",
       "\n",
       "    .dataframe tbody tr th {\n",
       "        vertical-align: top;\n",
       "    }\n",
       "\n",
       "    .dataframe thead th {\n",
       "        text-align: right;\n",
       "    }\n",
       "</style>\n",
       "<table border=\"1\" class=\"dataframe\">\n",
       "  <thead>\n",
       "    <tr style=\"text-align: right;\">\n",
       "      <th></th>\n",
       "      <th>Store</th>\n",
       "      <th>Date</th>\n",
       "      <th>Weekly_Sales</th>\n",
       "      <th>Holiday_Flag</th>\n",
       "      <th>Temperature</th>\n",
       "      <th>Fuel_Price</th>\n",
       "      <th>CPI</th>\n",
       "      <th>Unemployment</th>\n",
       "      <th>quarter</th>\n",
       "    </tr>\n",
       "  </thead>\n",
       "  <tbody>\n",
       "  </tbody>\n",
       "</table>\n",
       "</div>"
      ],
      "text/plain": [
       "Empty DataFrame\n",
       "Columns: [Store, Date, Weekly_Sales, Holiday_Flag, Temperature, Fuel_Price, CPI, Unemployment, quarter]\n",
       "Index: []"
      ]
     },
     "execution_count": 17,
     "metadata": {},
     "output_type": "execute_result"
    }
   ],
   "source": [
    "df[(df['Date'].dt.year == '2012') & (df['quarter'] == 2)]"
   ]
  },
  {
   "cell_type": "code",
   "execution_count": 18,
   "id": "7abfdefa-93aa-44b9-9049-dbf24ced1f23",
   "metadata": {},
   "outputs": [
    {
     "data": {
      "text/html": [
       "<div>\n",
       "<style scoped>\n",
       "    .dataframe tbody tr th:only-of-type {\n",
       "        vertical-align: middle;\n",
       "    }\n",
       "\n",
       "    .dataframe tbody tr th {\n",
       "        vertical-align: top;\n",
       "    }\n",
       "\n",
       "    .dataframe thead th {\n",
       "        text-align: right;\n",
       "    }\n",
       "</style>\n",
       "<table border=\"1\" class=\"dataframe\">\n",
       "  <thead>\n",
       "    <tr style=\"text-align: right;\">\n",
       "      <th></th>\n",
       "      <th>Store</th>\n",
       "      <th>Date</th>\n",
       "      <th>Weekly_Sales</th>\n",
       "      <th>Holiday_Flag</th>\n",
       "      <th>Temperature</th>\n",
       "      <th>Fuel_Price</th>\n",
       "      <th>CPI</th>\n",
       "      <th>Unemployment</th>\n",
       "      <th>quarter</th>\n",
       "    </tr>\n",
       "  </thead>\n",
       "  <tbody>\n",
       "    <tr>\n",
       "      <th>113</th>\n",
       "      <td>1</td>\n",
       "      <td>2012-04-06</td>\n",
       "      <td>1899676.88</td>\n",
       "      <td>0</td>\n",
       "      <td>70.43</td>\n",
       "      <td>3.891</td>\n",
       "      <td>221.435611</td>\n",
       "      <td>7.143</td>\n",
       "      <td>2</td>\n",
       "    </tr>\n",
       "    <tr>\n",
       "      <th>114</th>\n",
       "      <td>1</td>\n",
       "      <td>2012-04-13</td>\n",
       "      <td>1621031.70</td>\n",
       "      <td>0</td>\n",
       "      <td>69.07</td>\n",
       "      <td>3.891</td>\n",
       "      <td>221.510210</td>\n",
       "      <td>7.143</td>\n",
       "      <td>2</td>\n",
       "    </tr>\n",
       "    <tr>\n",
       "      <th>115</th>\n",
       "      <td>1</td>\n",
       "      <td>2012-04-20</td>\n",
       "      <td>1521577.87</td>\n",
       "      <td>0</td>\n",
       "      <td>66.76</td>\n",
       "      <td>3.877</td>\n",
       "      <td>221.564074</td>\n",
       "      <td>7.143</td>\n",
       "      <td>2</td>\n",
       "    </tr>\n",
       "    <tr>\n",
       "      <th>116</th>\n",
       "      <td>1</td>\n",
       "      <td>2012-04-27</td>\n",
       "      <td>1468928.37</td>\n",
       "      <td>0</td>\n",
       "      <td>67.23</td>\n",
       "      <td>3.814</td>\n",
       "      <td>221.617937</td>\n",
       "      <td>7.143</td>\n",
       "      <td>2</td>\n",
       "    </tr>\n",
       "    <tr>\n",
       "      <th>117</th>\n",
       "      <td>1</td>\n",
       "      <td>2012-05-04</td>\n",
       "      <td>1684519.99</td>\n",
       "      <td>0</td>\n",
       "      <td>75.55</td>\n",
       "      <td>3.749</td>\n",
       "      <td>221.671800</td>\n",
       "      <td>7.143</td>\n",
       "      <td>2</td>\n",
       "    </tr>\n",
       "    <tr>\n",
       "      <th>...</th>\n",
       "      <td>...</td>\n",
       "      <td>...</td>\n",
       "      <td>...</td>\n",
       "      <td>...</td>\n",
       "      <td>...</td>\n",
       "      <td>...</td>\n",
       "      <td>...</td>\n",
       "      <td>...</td>\n",
       "      <td>...</td>\n",
       "    </tr>\n",
       "    <tr>\n",
       "      <th>6413</th>\n",
       "      <td>45</td>\n",
       "      <td>2012-06-01</td>\n",
       "      <td>837144.63</td>\n",
       "      <td>0</td>\n",
       "      <td>74.48</td>\n",
       "      <td>3.742</td>\n",
       "      <td>191.009171</td>\n",
       "      <td>8.567</td>\n",
       "      <td>2</td>\n",
       "    </tr>\n",
       "    <tr>\n",
       "      <th>6414</th>\n",
       "      <td>45</td>\n",
       "      <td>2012-06-08</td>\n",
       "      <td>795133.00</td>\n",
       "      <td>0</td>\n",
       "      <td>64.30</td>\n",
       "      <td>3.689</td>\n",
       "      <td>191.015533</td>\n",
       "      <td>8.567</td>\n",
       "      <td>2</td>\n",
       "    </tr>\n",
       "    <tr>\n",
       "      <th>6415</th>\n",
       "      <td>45</td>\n",
       "      <td>2012-06-15</td>\n",
       "      <td>821498.18</td>\n",
       "      <td>0</td>\n",
       "      <td>71.93</td>\n",
       "      <td>3.620</td>\n",
       "      <td>191.029973</td>\n",
       "      <td>8.567</td>\n",
       "      <td>2</td>\n",
       "    </tr>\n",
       "    <tr>\n",
       "      <th>6416</th>\n",
       "      <td>45</td>\n",
       "      <td>2012-06-22</td>\n",
       "      <td>822569.16</td>\n",
       "      <td>0</td>\n",
       "      <td>74.22</td>\n",
       "      <td>3.564</td>\n",
       "      <td>191.064610</td>\n",
       "      <td>8.567</td>\n",
       "      <td>2</td>\n",
       "    </tr>\n",
       "    <tr>\n",
       "      <th>6417</th>\n",
       "      <td>45</td>\n",
       "      <td>2012-06-29</td>\n",
       "      <td>773367.71</td>\n",
       "      <td>0</td>\n",
       "      <td>75.22</td>\n",
       "      <td>3.506</td>\n",
       "      <td>191.099246</td>\n",
       "      <td>8.567</td>\n",
       "      <td>2</td>\n",
       "    </tr>\n",
       "  </tbody>\n",
       "</table>\n",
       "<p>585 rows × 9 columns</p>\n",
       "</div>"
      ],
      "text/plain": [
       "      Store       Date  Weekly_Sales  Holiday_Flag  Temperature  Fuel_Price  \\\n",
       "113       1 2012-04-06    1899676.88             0        70.43       3.891   \n",
       "114       1 2012-04-13    1621031.70             0        69.07       3.891   \n",
       "115       1 2012-04-20    1521577.87             0        66.76       3.877   \n",
       "116       1 2012-04-27    1468928.37             0        67.23       3.814   \n",
       "117       1 2012-05-04    1684519.99             0        75.55       3.749   \n",
       "...     ...        ...           ...           ...          ...         ...   \n",
       "6413     45 2012-06-01     837144.63             0        74.48       3.742   \n",
       "6414     45 2012-06-08     795133.00             0        64.30       3.689   \n",
       "6415     45 2012-06-15     821498.18             0        71.93       3.620   \n",
       "6416     45 2012-06-22     822569.16             0        74.22       3.564   \n",
       "6417     45 2012-06-29     773367.71             0        75.22       3.506   \n",
       "\n",
       "             CPI  Unemployment  quarter  \n",
       "113   221.435611         7.143        2  \n",
       "114   221.510210         7.143        2  \n",
       "115   221.564074         7.143        2  \n",
       "116   221.617937         7.143        2  \n",
       "117   221.671800         7.143        2  \n",
       "...          ...           ...      ...  \n",
       "6413  191.009171         8.567        2  \n",
       "6414  191.015533         8.567        2  \n",
       "6415  191.029973         8.567        2  \n",
       "6416  191.064610         8.567        2  \n",
       "6417  191.099246         8.567        2  \n",
       "\n",
       "[585 rows x 9 columns]"
      ]
     },
     "execution_count": 18,
     "metadata": {},
     "output_type": "execute_result"
    }
   ],
   "source": [
    "df[(df['quarter'] == 2) & (df['Date'].dt.year == 2012)]"
   ]
  },
  {
   "cell_type": "code",
   "execution_count": 19,
   "id": "91f1f696-cf42-4e18-8f5f-20237902aeba",
   "metadata": {},
   "outputs": [
    {
     "data": {
      "text/html": [
       "<div>\n",
       "<style scoped>\n",
       "    .dataframe tbody tr th:only-of-type {\n",
       "        vertical-align: middle;\n",
       "    }\n",
       "\n",
       "    .dataframe tbody tr th {\n",
       "        vertical-align: top;\n",
       "    }\n",
       "\n",
       "    .dataframe thead th {\n",
       "        text-align: right;\n",
       "    }\n",
       "</style>\n",
       "<table border=\"1\" class=\"dataframe\">\n",
       "  <thead>\n",
       "    <tr style=\"text-align: right;\">\n",
       "      <th></th>\n",
       "      <th>Store</th>\n",
       "      <th>Date</th>\n",
       "      <th>Weekly_Sales</th>\n",
       "      <th>Holiday_Flag</th>\n",
       "      <th>Temperature</th>\n",
       "      <th>Fuel_Price</th>\n",
       "      <th>CPI</th>\n",
       "      <th>Unemployment</th>\n",
       "      <th>quarter</th>\n",
       "    </tr>\n",
       "  </thead>\n",
       "  <tbody>\n",
       "  </tbody>\n",
       "</table>\n",
       "</div>"
      ],
      "text/plain": [
       "Empty DataFrame\n",
       "Columns: [Store, Date, Weekly_Sales, Holiday_Flag, Temperature, Fuel_Price, CPI, Unemployment, quarter]\n",
       "Index: []"
      ]
     },
     "execution_count": 19,
     "metadata": {},
     "output_type": "execute_result"
    }
   ],
   "source": [
    "df[(df['Date'].dt.year == '2012')]"
   ]
  },
  {
   "cell_type": "code",
   "execution_count": 20,
   "id": "8e91f01c-9620-4fa2-b697-f739954545b4",
   "metadata": {},
   "outputs": [],
   "source": [
    "quarter2_2012 = df[(df['Date'].dt.to_period('Y')=='2012') & (df['quarter']==2)]"
   ]
  },
  {
   "cell_type": "code",
   "execution_count": 21,
   "id": "2fe04dd4-bf3a-475f-94a5-07540a1782e3",
   "metadata": {},
   "outputs": [],
   "source": [
    "quarter3_2012 = df[(df['Date'].dt.to_period('Y')=='2012') & (df['quarter']==3)]"
   ]
  },
  {
   "cell_type": "code",
   "execution_count": 22,
   "id": "9a9a6d4c-3dad-4786-8047-9fbd018e20c3",
   "metadata": {},
   "outputs": [],
   "source": [
    "Q2 = pd.DataFrame(quarter2_2012.groupby('Store')['Weekly_Sales'].sum())"
   ]
  },
  {
   "cell_type": "code",
   "execution_count": 23,
   "id": "f926ee05-6727-4dcc-9ee0-a6495ead56d2",
   "metadata": {},
   "outputs": [],
   "source": [
    "Q3 = pd.DataFrame(quarter3_2012.groupby('Store')['Weekly_Sales'].sum())"
   ]
  },
  {
   "cell_type": "code",
   "execution_count": 24,
   "id": "764cfa96-8c2b-49b2-adc6-1cdf1e46b993",
   "metadata": {},
   "outputs": [],
   "source": [
    "Q3_growth = Q2.merge(Q3,on='Store',how='inner')\n",
    "Q3_growth.rename(columns={'Weekly_Sales_x': 'Q2_Weekly_Sales','Weekly_Sales_y': 'Q3_Weekly_Sales'},inplace=True)"
   ]
  },
  {
   "cell_type": "code",
   "execution_count": 25,
   "id": "957a5366-7c6a-4abb-bd46-91010effc206",
   "metadata": {},
   "outputs": [
    {
     "data": {
      "text/html": [
       "<div>\n",
       "<style scoped>\n",
       "    .dataframe tbody tr th:only-of-type {\n",
       "        vertical-align: middle;\n",
       "    }\n",
       "\n",
       "    .dataframe tbody tr th {\n",
       "        vertical-align: top;\n",
       "    }\n",
       "\n",
       "    .dataframe thead th {\n",
       "        text-align: right;\n",
       "    }\n",
       "</style>\n",
       "<table border=\"1\" class=\"dataframe\">\n",
       "  <thead>\n",
       "    <tr style=\"text-align: right;\">\n",
       "      <th></th>\n",
       "      <th>Q2_Weekly_Sales</th>\n",
       "      <th>Q3_Weekly_Sales</th>\n",
       "    </tr>\n",
       "    <tr>\n",
       "      <th>Store</th>\n",
       "      <th></th>\n",
       "      <th></th>\n",
       "    </tr>\n",
       "  </thead>\n",
       "  <tbody>\n",
       "    <tr>\n",
       "      <th>1</th>\n",
       "      <td>20978760.12</td>\n",
       "      <td>20253947.78</td>\n",
       "    </tr>\n",
       "    <tr>\n",
       "      <th>2</th>\n",
       "      <td>25083604.88</td>\n",
       "      <td>24303354.86</td>\n",
       "    </tr>\n",
       "    <tr>\n",
       "      <th>3</th>\n",
       "      <td>5620316.49</td>\n",
       "      <td>5298005.47</td>\n",
       "    </tr>\n",
       "    <tr>\n",
       "      <th>4</th>\n",
       "      <td>28454363.67</td>\n",
       "      <td>27796792.46</td>\n",
       "    </tr>\n",
       "    <tr>\n",
       "      <th>5</th>\n",
       "      <td>4466363.69</td>\n",
       "      <td>4163790.99</td>\n",
       "    </tr>\n",
       "  </tbody>\n",
       "</table>\n",
       "</div>"
      ],
      "text/plain": [
       "       Q2_Weekly_Sales  Q3_Weekly_Sales\n",
       "Store                                  \n",
       "1          20978760.12      20253947.78\n",
       "2          25083604.88      24303354.86\n",
       "3           5620316.49       5298005.47\n",
       "4          28454363.67      27796792.46\n",
       "5           4466363.69       4163790.99"
      ]
     },
     "execution_count": 25,
     "metadata": {},
     "output_type": "execute_result"
    }
   ],
   "source": [
    "Q3_growth.head()"
   ]
  },
  {
   "cell_type": "code",
   "execution_count": 26,
   "id": "5df0fd86-3459-4633-908d-31be3c23854d",
   "metadata": {},
   "outputs": [],
   "source": [
    "Q3_growth['Q3_Growth %'] = ((Q3_growth['Q3_Weekly_Sales']-Q3_growth['Q2_Weekly_Sales'])/Q3_growth['Q3_Weekly_Sales'])*100"
   ]
  },
  {
   "cell_type": "code",
   "execution_count": 27,
   "id": "c67ede32-a437-493d-8e28-ed6c0cee63f2",
   "metadata": {},
   "outputs": [],
   "source": [
    "Q3_growth['Q3_Growth %'] = round(Q3_growth['Q3_Growth %'],2)"
   ]
  },
  {
   "cell_type": "code",
   "execution_count": 28,
   "id": "1758b922-ad19-4f57-be9e-9287641290d7",
   "metadata": {},
   "outputs": [
    {
     "data": {
      "text/html": [
       "<div>\n",
       "<style scoped>\n",
       "    .dataframe tbody tr th:only-of-type {\n",
       "        vertical-align: middle;\n",
       "    }\n",
       "\n",
       "    .dataframe tbody tr th {\n",
       "        vertical-align: top;\n",
       "    }\n",
       "\n",
       "    .dataframe thead th {\n",
       "        text-align: right;\n",
       "    }\n",
       "</style>\n",
       "<table border=\"1\" class=\"dataframe\">\n",
       "  <thead>\n",
       "    <tr style=\"text-align: right;\">\n",
       "      <th></th>\n",
       "      <th>Q2_Weekly_Sales</th>\n",
       "      <th>Q3_Weekly_Sales</th>\n",
       "      <th>Q3_Growth %</th>\n",
       "    </tr>\n",
       "    <tr>\n",
       "      <th>Store</th>\n",
       "      <th></th>\n",
       "      <th></th>\n",
       "      <th></th>\n",
       "    </tr>\n",
       "  </thead>\n",
       "  <tbody>\n",
       "    <tr>\n",
       "      <th>7</th>\n",
       "      <td>7290859.27</td>\n",
       "      <td>8262787.39</td>\n",
       "      <td>11.76</td>\n",
       "    </tr>\n",
       "    <tr>\n",
       "      <th>16</th>\n",
       "      <td>6564335.98</td>\n",
       "      <td>7121541.64</td>\n",
       "      <td>7.82</td>\n",
       "    </tr>\n",
       "    <tr>\n",
       "      <th>35</th>\n",
       "      <td>10838313.00</td>\n",
       "      <td>11322421.12</td>\n",
       "      <td>4.28</td>\n",
       "    </tr>\n",
       "    <tr>\n",
       "      <th>26</th>\n",
       "      <td>13155335.57</td>\n",
       "      <td>13675691.91</td>\n",
       "      <td>3.80</td>\n",
       "    </tr>\n",
       "    <tr>\n",
       "      <th>39</th>\n",
       "      <td>20214128.46</td>\n",
       "      <td>20715116.23</td>\n",
       "      <td>2.42</td>\n",
       "    </tr>\n",
       "  </tbody>\n",
       "</table>\n",
       "</div>"
      ],
      "text/plain": [
       "       Q2_Weekly_Sales  Q3_Weekly_Sales  Q3_Growth %\n",
       "Store                                               \n",
       "7           7290859.27       8262787.39        11.76\n",
       "16          6564335.98       7121541.64         7.82\n",
       "35         10838313.00      11322421.12         4.28\n",
       "26         13155335.57      13675691.91         3.80\n",
       "39         20214128.46      20715116.23         2.42"
      ]
     },
     "execution_count": 28,
     "metadata": {},
     "output_type": "execute_result"
    }
   ],
   "source": [
    "Q3_growth.sort_values('Q3_Growth %',ascending=False).head()"
   ]
  },
  {
   "cell_type": "markdown",
   "id": "e3aa3fd2-47dc-49ff-b5c2-51e399bde349",
   "metadata": {},
   "source": [
    "3.Which store/s has good quarterly growth rate in Q3’2012?\n",
    "\n",
    "<b>Store 16<b> has a better growth rate in the Q3'2012"
   ]
  },
  {
   "cell_type": "code",
   "execution_count": 29,
   "id": "01ae544c-9150-4181-baaf-7e957db6d559",
   "metadata": {},
   "outputs": [
    {
     "data": {
      "text/html": [
       "<div>\n",
       "<style scoped>\n",
       "    .dataframe tbody tr th:only-of-type {\n",
       "        vertical-align: middle;\n",
       "    }\n",
       "\n",
       "    .dataframe tbody tr th {\n",
       "        vertical-align: top;\n",
       "    }\n",
       "\n",
       "    .dataframe thead th {\n",
       "        text-align: right;\n",
       "    }\n",
       "</style>\n",
       "<table border=\"1\" class=\"dataframe\">\n",
       "  <thead>\n",
       "    <tr style=\"text-align: right;\">\n",
       "      <th></th>\n",
       "      <th>Store</th>\n",
       "      <th>Date</th>\n",
       "      <th>Weekly_Sales</th>\n",
       "      <th>Holiday_Flag</th>\n",
       "      <th>Temperature</th>\n",
       "      <th>Fuel_Price</th>\n",
       "      <th>CPI</th>\n",
       "      <th>Unemployment</th>\n",
       "      <th>quarter</th>\n",
       "    </tr>\n",
       "  </thead>\n",
       "  <tbody>\n",
       "    <tr>\n",
       "      <th>47</th>\n",
       "      <td>1</td>\n",
       "      <td>2010-12-31</td>\n",
       "      <td>1367320.01</td>\n",
       "      <td>1</td>\n",
       "      <td>48.43</td>\n",
       "      <td>2.943</td>\n",
       "      <td>211.404932</td>\n",
       "      <td>7.838</td>\n",
       "      <td>4</td>\n",
       "    </tr>\n",
       "    <tr>\n",
       "      <th>99</th>\n",
       "      <td>1</td>\n",
       "      <td>2011-12-30</td>\n",
       "      <td>1497462.72</td>\n",
       "      <td>1</td>\n",
       "      <td>44.55</td>\n",
       "      <td>3.129</td>\n",
       "      <td>219.535990</td>\n",
       "      <td>7.866</td>\n",
       "      <td>4</td>\n",
       "    </tr>\n",
       "    <tr>\n",
       "      <th>190</th>\n",
       "      <td>2</td>\n",
       "      <td>2010-12-31</td>\n",
       "      <td>1750434.55</td>\n",
       "      <td>1</td>\n",
       "      <td>47.30</td>\n",
       "      <td>2.943</td>\n",
       "      <td>211.064774</td>\n",
       "      <td>8.163</td>\n",
       "      <td>4</td>\n",
       "    </tr>\n",
       "    <tr>\n",
       "      <th>242</th>\n",
       "      <td>2</td>\n",
       "      <td>2011-12-30</td>\n",
       "      <td>1874226.52</td>\n",
       "      <td>1</td>\n",
       "      <td>44.57</td>\n",
       "      <td>3.129</td>\n",
       "      <td>219.177306</td>\n",
       "      <td>7.441</td>\n",
       "      <td>4</td>\n",
       "    </tr>\n",
       "    <tr>\n",
       "      <th>333</th>\n",
       "      <td>3</td>\n",
       "      <td>2010-12-31</td>\n",
       "      <td>382677.76</td>\n",
       "      <td>1</td>\n",
       "      <td>53.20</td>\n",
       "      <td>2.943</td>\n",
       "      <td>214.698647</td>\n",
       "      <td>7.564</td>\n",
       "      <td>4</td>\n",
       "    </tr>\n",
       "    <tr>\n",
       "      <th>...</th>\n",
       "      <td>...</td>\n",
       "      <td>...</td>\n",
       "      <td>...</td>\n",
       "      <td>...</td>\n",
       "      <td>...</td>\n",
       "      <td>...</td>\n",
       "      <td>...</td>\n",
       "      <td>...</td>\n",
       "      <td>...</td>\n",
       "    </tr>\n",
       "    <tr>\n",
       "      <th>6105</th>\n",
       "      <td>43</td>\n",
       "      <td>2011-12-30</td>\n",
       "      <td>505405.85</td>\n",
       "      <td>1</td>\n",
       "      <td>41.83</td>\n",
       "      <td>3.129</td>\n",
       "      <td>211.074055</td>\n",
       "      <td>10.148</td>\n",
       "      <td>4</td>\n",
       "    </tr>\n",
       "    <tr>\n",
       "      <th>6196</th>\n",
       "      <td>44</td>\n",
       "      <td>2010-12-31</td>\n",
       "      <td>241937.11</td>\n",
       "      <td>1</td>\n",
       "      <td>26.79</td>\n",
       "      <td>2.868</td>\n",
       "      <td>127.087677</td>\n",
       "      <td>7.610</td>\n",
       "      <td>4</td>\n",
       "    </tr>\n",
       "    <tr>\n",
       "      <th>6248</th>\n",
       "      <td>44</td>\n",
       "      <td>2011-12-30</td>\n",
       "      <td>263917.85</td>\n",
       "      <td>1</td>\n",
       "      <td>31.53</td>\n",
       "      <td>3.119</td>\n",
       "      <td>130.071032</td>\n",
       "      <td>6.078</td>\n",
       "      <td>4</td>\n",
       "    </tr>\n",
       "    <tr>\n",
       "      <th>6339</th>\n",
       "      <td>45</td>\n",
       "      <td>2010-12-31</td>\n",
       "      <td>679156.20</td>\n",
       "      <td>1</td>\n",
       "      <td>29.67</td>\n",
       "      <td>3.179</td>\n",
       "      <td>182.571448</td>\n",
       "      <td>8.724</td>\n",
       "      <td>4</td>\n",
       "    </tr>\n",
       "    <tr>\n",
       "      <th>6391</th>\n",
       "      <td>45</td>\n",
       "      <td>2011-12-30</td>\n",
       "      <td>869403.63</td>\n",
       "      <td>1</td>\n",
       "      <td>37.79</td>\n",
       "      <td>3.389</td>\n",
       "      <td>189.062016</td>\n",
       "      <td>8.523</td>\n",
       "      <td>4</td>\n",
       "    </tr>\n",
       "  </tbody>\n",
       "</table>\n",
       "<p>90 rows × 9 columns</p>\n",
       "</div>"
      ],
      "text/plain": [
       "      Store       Date  Weekly_Sales  Holiday_Flag  Temperature  Fuel_Price  \\\n",
       "47        1 2010-12-31    1367320.01             1        48.43       2.943   \n",
       "99        1 2011-12-30    1497462.72             1        44.55       3.129   \n",
       "190       2 2010-12-31    1750434.55             1        47.30       2.943   \n",
       "242       2 2011-12-30    1874226.52             1        44.57       3.129   \n",
       "333       3 2010-12-31     382677.76             1        53.20       2.943   \n",
       "...     ...        ...           ...           ...          ...         ...   \n",
       "6105     43 2011-12-30     505405.85             1        41.83       3.129   \n",
       "6196     44 2010-12-31     241937.11             1        26.79       2.868   \n",
       "6248     44 2011-12-30     263917.85             1        31.53       3.119   \n",
       "6339     45 2010-12-31     679156.20             1        29.67       3.179   \n",
       "6391     45 2011-12-30     869403.63             1        37.79       3.389   \n",
       "\n",
       "             CPI  Unemployment  quarter  \n",
       "47    211.404932         7.838        4  \n",
       "99    219.535990         7.866        4  \n",
       "190   211.064774         8.163        4  \n",
       "242   219.177306         7.441        4  \n",
       "333   214.698647         7.564        4  \n",
       "...          ...           ...      ...  \n",
       "6105  211.074055        10.148        4  \n",
       "6196  127.087677         7.610        4  \n",
       "6248  130.071032         6.078        4  \n",
       "6339  182.571448         8.724        4  \n",
       "6391  189.062016         8.523        4  \n",
       "\n",
       "[90 rows x 9 columns]"
      ]
     },
     "execution_count": 29,
     "metadata": {},
     "output_type": "execute_result"
    }
   ],
   "source": [
    "df[(df['Date']=='2010-12-31') | (df['Date']=='2011-12-30') | (df['Date']=='2012-12-28')]"
   ]
  },
  {
   "cell_type": "code",
   "execution_count": 30,
   "id": "bec5b0ed-c350-4895-8fe2-77fe99620eee",
   "metadata": {},
   "outputs": [
    {
     "data": {
      "text/html": [
       "<div>\n",
       "<style scoped>\n",
       "    .dataframe tbody tr th:only-of-type {\n",
       "        vertical-align: middle;\n",
       "    }\n",
       "\n",
       "    .dataframe tbody tr th {\n",
       "        vertical-align: top;\n",
       "    }\n",
       "\n",
       "    .dataframe thead th {\n",
       "        text-align: right;\n",
       "    }\n",
       "</style>\n",
       "<table border=\"1\" class=\"dataframe\">\n",
       "  <thead>\n",
       "    <tr style=\"text-align: right;\">\n",
       "      <th></th>\n",
       "      <th>Store</th>\n",
       "      <th>Date</th>\n",
       "      <th>Weekly_Sales</th>\n",
       "      <th>Holiday_Flag</th>\n",
       "      <th>Temperature</th>\n",
       "      <th>Fuel_Price</th>\n",
       "      <th>CPI</th>\n",
       "      <th>Unemployment</th>\n",
       "      <th>quarter</th>\n",
       "    </tr>\n",
       "  </thead>\n",
       "  <tbody>\n",
       "    <tr>\n",
       "      <th>6430</th>\n",
       "      <td>45</td>\n",
       "      <td>2012-09-28</td>\n",
       "      <td>713173.95</td>\n",
       "      <td>0</td>\n",
       "      <td>64.88</td>\n",
       "      <td>3.997</td>\n",
       "      <td>192.013558</td>\n",
       "      <td>8.684</td>\n",
       "      <td>3</td>\n",
       "    </tr>\n",
       "    <tr>\n",
       "      <th>6431</th>\n",
       "      <td>45</td>\n",
       "      <td>2012-10-05</td>\n",
       "      <td>733455.07</td>\n",
       "      <td>0</td>\n",
       "      <td>64.89</td>\n",
       "      <td>3.985</td>\n",
       "      <td>192.170412</td>\n",
       "      <td>8.667</td>\n",
       "      <td>4</td>\n",
       "    </tr>\n",
       "    <tr>\n",
       "      <th>6432</th>\n",
       "      <td>45</td>\n",
       "      <td>2012-10-12</td>\n",
       "      <td>734464.36</td>\n",
       "      <td>0</td>\n",
       "      <td>54.47</td>\n",
       "      <td>4.000</td>\n",
       "      <td>192.327265</td>\n",
       "      <td>8.667</td>\n",
       "      <td>4</td>\n",
       "    </tr>\n",
       "    <tr>\n",
       "      <th>6433</th>\n",
       "      <td>45</td>\n",
       "      <td>2012-10-19</td>\n",
       "      <td>718125.53</td>\n",
       "      <td>0</td>\n",
       "      <td>56.47</td>\n",
       "      <td>3.969</td>\n",
       "      <td>192.330854</td>\n",
       "      <td>8.667</td>\n",
       "      <td>4</td>\n",
       "    </tr>\n",
       "    <tr>\n",
       "      <th>6434</th>\n",
       "      <td>45</td>\n",
       "      <td>2012-10-26</td>\n",
       "      <td>760281.43</td>\n",
       "      <td>0</td>\n",
       "      <td>58.85</td>\n",
       "      <td>3.882</td>\n",
       "      <td>192.308899</td>\n",
       "      <td>8.667</td>\n",
       "      <td>4</td>\n",
       "    </tr>\n",
       "  </tbody>\n",
       "</table>\n",
       "</div>"
      ],
      "text/plain": [
       "      Store       Date  Weekly_Sales  Holiday_Flag  Temperature  Fuel_Price  \\\n",
       "6430     45 2012-09-28     713173.95             0        64.88       3.997   \n",
       "6431     45 2012-10-05     733455.07             0        64.89       3.985   \n",
       "6432     45 2012-10-12     734464.36             0        54.47       4.000   \n",
       "6433     45 2012-10-19     718125.53             0        56.47       3.969   \n",
       "6434     45 2012-10-26     760281.43             0        58.85       3.882   \n",
       "\n",
       "             CPI  Unemployment  quarter  \n",
       "6430  192.013558         8.684        3  \n",
       "6431  192.170412         8.667        4  \n",
       "6432  192.327265         8.667        4  \n",
       "6433  192.330854         8.667        4  \n",
       "6434  192.308899         8.667        4  "
      ]
     },
     "execution_count": 30,
     "metadata": {},
     "output_type": "execute_result"
    }
   ],
   "source": [
    "df.tail()"
   ]
  },
  {
   "cell_type": "code",
   "execution_count": 31,
   "id": "d3c2f25a-0bfa-4a20-8d07-e7af06408ff7",
   "metadata": {},
   "outputs": [
    {
     "data": {
      "text/plain": [
       "array([datetime.date(2010, 2, 12), datetime.date(2010, 9, 10),\n",
       "       datetime.date(2010, 11, 26), datetime.date(2010, 12, 31)],\n",
       "      dtype=object)"
      ]
     },
     "execution_count": 31,
     "metadata": {},
     "output_type": "execute_result"
    }
   ],
   "source": [
    "df[(df['Holiday_Flag']==1) & (df['Date'].dt.year == 2010)].Date.dt.date.unique()"
   ]
  },
  {
   "cell_type": "code",
   "execution_count": 32,
   "id": "6f100887-ddeb-4488-ae4d-1ab0125c664b",
   "metadata": {},
   "outputs": [
    {
     "data": {
      "text/plain": [
       "array([datetime.date(2011, 2, 11), datetime.date(2011, 9, 9),\n",
       "       datetime.date(2011, 11, 25), datetime.date(2011, 12, 30)],\n",
       "      dtype=object)"
      ]
     },
     "execution_count": 32,
     "metadata": {},
     "output_type": "execute_result"
    }
   ],
   "source": [
    "df[(df['Holiday_Flag']==1) & (df['Date'].dt.year == 2011)].Date.dt.date.unique()"
   ]
  },
  {
   "cell_type": "code",
   "execution_count": 33,
   "id": "ffc5f7b4-6ae9-425d-80f2-27fbf552b582",
   "metadata": {},
   "outputs": [
    {
     "data": {
      "text/plain": [
       "array([datetime.date(2012, 2, 10), datetime.date(2012, 9, 7)],\n",
       "      dtype=object)"
      ]
     },
     "execution_count": 33,
     "metadata": {},
     "output_type": "execute_result"
    }
   ],
   "source": [
    "df[(df['Holiday_Flag']==1) & (df['Date'].dt.year == 2012)].Date.dt.date.unique()"
   ]
  },
  {
   "cell_type": "markdown",
   "id": "c3752e14-8618-4882-9f11-a478ec5cb5bc",
   "metadata": {},
   "source": [
    "df.sort_values(by=['Store','Date'])"
   ]
  },
  {
   "cell_type": "code",
   "execution_count": 34,
   "id": "2fdb23d0-5eb8-4cfb-90d4-4445c2b8e753",
   "metadata": {},
   "outputs": [],
   "source": [
    "Holiday_mean = df.groupby('Holiday_Flag')['Weekly_Sales'].mean()"
   ]
  },
  {
   "cell_type": "code",
   "execution_count": 35,
   "id": "614346e2-3d65-44ea-8c11-055c954ab728",
   "metadata": {},
   "outputs": [],
   "source": [
    "Super_Bowl = df[(df['Date']=='2010-02-12') | (df['Date']=='2011-02-11') | (df['Date']=='2012-02-10') | (df['Date']=='2013-02-08')]\n",
    "Labour_Day = df[(df['Date']=='2010-09-10') | (df['Date']=='2011-09-09') | (df['Date']=='2012-09-07') | (df['Date']=='2013-09-06')]\n",
    "Thanksgiving = df[(df['Date']=='2010-11-26') | (df['Date']=='2011-11-25') | (df['Date']=='2012-11-23') | (df['Date']=='2013-11-29')]\n",
    "Christmas = df[(df['Date']=='2010-12-31') | (df['Date']=='2011-12-30') | (df['Date']=='2012-12-28') | (df['Date']=='2013-12-27')]\n",
    "mean_of_holiday_sales = {'Super Bowl': round(Super_Bowl['Weekly_Sales'].mean(),2),'Labour_Day': round(Labour_Day['Weekly_Sales'].mean(),2),'Thanksgiving':round(Thanksgiving['Weekly_Sales'].mean(),2), 'Christmas' : round(Christmas['Weekly_Sales'].mean(),2), 'Non Holiday Sales':round(Holiday_mean[0],2) }"
   ]
  },
  {
   "cell_type": "code",
   "execution_count": 36,
   "id": "03d9d715-3989-4351-8327-caa459af062f",
   "metadata": {},
   "outputs": [
    {
     "data": {
      "text/plain": [
       "{'Super Bowl': 1079127.99,\n",
       " 'Labour_Day': 1042427.29,\n",
       " 'Thanksgiving': 1471273.43,\n",
       " 'Christmas': 960833.11,\n",
       " 'Non Holiday Sales': 1041256.38}"
      ]
     },
     "execution_count": 36,
     "metadata": {},
     "output_type": "execute_result"
    }
   ],
   "source": [
    "mean_of_holiday_sales"
   ]
  },
  {
   "cell_type": "markdown",
   "id": "be7d2ce2-b725-42ae-8351-eeb29482ed30",
   "metadata": {},
   "source": [
    "<b>4. The Thanksgiving holiday clearly has higher sales than Non-Holiday season"
   ]
  },
  {
   "cell_type": "markdown",
   "id": "e0d956d5-ee65-4f98-b807-be97b18ff97a",
   "metadata": {},
   "source": [
    "<b>5.Provide a monthly and semester view of sales in units and give insights"
   ]
  },
  {
   "cell_type": "code",
   "execution_count": 37,
   "id": "877dc988-8b13-4f0c-a131-a1cbc2a6e9eb",
   "metadata": {},
   "outputs": [],
   "source": [
    "df_monthly = df.groupby(pd.Grouper(key='Date', freq='1M'))['Weekly_Sales'].sum().reset_index()"
   ]
  },
  {
   "cell_type": "code",
   "execution_count": 38,
   "id": "193ad578-d8da-4328-8b1c-5ad4a9bfa38d",
   "metadata": {},
   "outputs": [
    {
     "data": {
      "text/html": [
       "<div>\n",
       "<style scoped>\n",
       "    .dataframe tbody tr th:only-of-type {\n",
       "        vertical-align: middle;\n",
       "    }\n",
       "\n",
       "    .dataframe tbody tr th {\n",
       "        vertical-align: top;\n",
       "    }\n",
       "\n",
       "    .dataframe thead th {\n",
       "        text-align: right;\n",
       "    }\n",
       "</style>\n",
       "<table border=\"1\" class=\"dataframe\">\n",
       "  <thead>\n",
       "    <tr style=\"text-align: right;\">\n",
       "      <th></th>\n",
       "      <th>Date</th>\n",
       "      <th>Weekly_Sales</th>\n",
       "    </tr>\n",
       "  </thead>\n",
       "  <tbody>\n",
       "    <tr>\n",
       "      <th>0</th>\n",
       "      <td>2010-02-28</td>\n",
       "      <td>1.903330e+08</td>\n",
       "    </tr>\n",
       "    <tr>\n",
       "      <th>1</th>\n",
       "      <td>2010-03-31</td>\n",
       "      <td>1.819198e+08</td>\n",
       "    </tr>\n",
       "    <tr>\n",
       "      <th>2</th>\n",
       "      <td>2010-04-30</td>\n",
       "      <td>2.314124e+08</td>\n",
       "    </tr>\n",
       "    <tr>\n",
       "      <th>3</th>\n",
       "      <td>2010-05-31</td>\n",
       "      <td>1.867109e+08</td>\n",
       "    </tr>\n",
       "    <tr>\n",
       "      <th>4</th>\n",
       "      <td>2010-06-30</td>\n",
       "      <td>1.922462e+08</td>\n",
       "    </tr>\n",
       "    <tr>\n",
       "      <th>5</th>\n",
       "      <td>2010-07-31</td>\n",
       "      <td>2.325801e+08</td>\n",
       "    </tr>\n",
       "    <tr>\n",
       "      <th>6</th>\n",
       "      <td>2010-08-31</td>\n",
       "      <td>1.876401e+08</td>\n",
       "    </tr>\n",
       "    <tr>\n",
       "      <th>7</th>\n",
       "      <td>2010-09-30</td>\n",
       "      <td>1.772679e+08</td>\n",
       "    </tr>\n",
       "    <tr>\n",
       "      <th>8</th>\n",
       "      <td>2010-10-31</td>\n",
       "      <td>2.171618e+08</td>\n",
       "    </tr>\n",
       "    <tr>\n",
       "      <th>9</th>\n",
       "      <td>2010-11-30</td>\n",
       "      <td>2.028534e+08</td>\n",
       "    </tr>\n",
       "    <tr>\n",
       "      <th>10</th>\n",
       "      <td>2010-12-31</td>\n",
       "      <td>2.887605e+08</td>\n",
       "    </tr>\n",
       "    <tr>\n",
       "      <th>11</th>\n",
       "      <td>2011-01-31</td>\n",
       "      <td>1.637040e+08</td>\n",
       "    </tr>\n",
       "    <tr>\n",
       "      <th>12</th>\n",
       "      <td>2011-02-28</td>\n",
       "      <td>1.863313e+08</td>\n",
       "    </tr>\n",
       "    <tr>\n",
       "      <th>13</th>\n",
       "      <td>2011-03-31</td>\n",
       "      <td>1.793564e+08</td>\n",
       "    </tr>\n",
       "    <tr>\n",
       "      <th>14</th>\n",
       "      <td>2011-04-30</td>\n",
       "      <td>2.265265e+08</td>\n",
       "    </tr>\n",
       "    <tr>\n",
       "      <th>15</th>\n",
       "      <td>2011-05-31</td>\n",
       "      <td>1.816482e+08</td>\n",
       "    </tr>\n",
       "    <tr>\n",
       "      <th>16</th>\n",
       "      <td>2011-06-30</td>\n",
       "      <td>1.897734e+08</td>\n",
       "    </tr>\n",
       "    <tr>\n",
       "      <th>17</th>\n",
       "      <td>2011-07-31</td>\n",
       "      <td>2.299114e+08</td>\n",
       "    </tr>\n",
       "    <tr>\n",
       "      <th>18</th>\n",
       "      <td>2011-08-31</td>\n",
       "      <td>1.885993e+08</td>\n",
       "    </tr>\n",
       "    <tr>\n",
       "      <th>19</th>\n",
       "      <td>2011-09-30</td>\n",
       "      <td>2.208477e+08</td>\n",
       "    </tr>\n",
       "    <tr>\n",
       "      <th>20</th>\n",
       "      <td>2011-10-31</td>\n",
       "      <td>1.832613e+08</td>\n",
       "    </tr>\n",
       "    <tr>\n",
       "      <th>21</th>\n",
       "      <td>2011-11-30</td>\n",
       "      <td>2.101624e+08</td>\n",
       "    </tr>\n",
       "    <tr>\n",
       "      <th>22</th>\n",
       "      <td>2011-12-31</td>\n",
       "      <td>2.880781e+08</td>\n",
       "    </tr>\n",
       "    <tr>\n",
       "      <th>23</th>\n",
       "      <td>2012-01-31</td>\n",
       "      <td>1.688945e+08</td>\n",
       "    </tr>\n",
       "    <tr>\n",
       "      <th>24</th>\n",
       "      <td>2012-02-29</td>\n",
       "      <td>1.920636e+08</td>\n",
       "    </tr>\n",
       "    <tr>\n",
       "      <th>25</th>\n",
       "      <td>2012-03-31</td>\n",
       "      <td>2.315097e+08</td>\n",
       "    </tr>\n",
       "    <tr>\n",
       "      <th>26</th>\n",
       "      <td>2012-04-30</td>\n",
       "      <td>1.889209e+08</td>\n",
       "    </tr>\n",
       "    <tr>\n",
       "      <th>27</th>\n",
       "      <td>2012-05-31</td>\n",
       "      <td>1.887665e+08</td>\n",
       "    </tr>\n",
       "    <tr>\n",
       "      <th>28</th>\n",
       "      <td>2012-06-30</td>\n",
       "      <td>2.406103e+08</td>\n",
       "    </tr>\n",
       "    <tr>\n",
       "      <th>29</th>\n",
       "      <td>2012-07-31</td>\n",
       "      <td>1.875095e+08</td>\n",
       "    </tr>\n",
       "    <tr>\n",
       "      <th>30</th>\n",
       "      <td>2012-08-31</td>\n",
       "      <td>2.368508e+08</td>\n",
       "    </tr>\n",
       "    <tr>\n",
       "      <th>31</th>\n",
       "      <td>2012-09-30</td>\n",
       "      <td>1.806455e+08</td>\n",
       "    </tr>\n",
       "    <tr>\n",
       "      <th>32</th>\n",
       "      <td>2012-10-31</td>\n",
       "      <td>1.843617e+08</td>\n",
       "    </tr>\n",
       "  </tbody>\n",
       "</table>\n",
       "</div>"
      ],
      "text/plain": [
       "         Date  Weekly_Sales\n",
       "0  2010-02-28  1.903330e+08\n",
       "1  2010-03-31  1.819198e+08\n",
       "2  2010-04-30  2.314124e+08\n",
       "3  2010-05-31  1.867109e+08\n",
       "4  2010-06-30  1.922462e+08\n",
       "5  2010-07-31  2.325801e+08\n",
       "6  2010-08-31  1.876401e+08\n",
       "7  2010-09-30  1.772679e+08\n",
       "8  2010-10-31  2.171618e+08\n",
       "9  2010-11-30  2.028534e+08\n",
       "10 2010-12-31  2.887605e+08\n",
       "11 2011-01-31  1.637040e+08\n",
       "12 2011-02-28  1.863313e+08\n",
       "13 2011-03-31  1.793564e+08\n",
       "14 2011-04-30  2.265265e+08\n",
       "15 2011-05-31  1.816482e+08\n",
       "16 2011-06-30  1.897734e+08\n",
       "17 2011-07-31  2.299114e+08\n",
       "18 2011-08-31  1.885993e+08\n",
       "19 2011-09-30  2.208477e+08\n",
       "20 2011-10-31  1.832613e+08\n",
       "21 2011-11-30  2.101624e+08\n",
       "22 2011-12-31  2.880781e+08\n",
       "23 2012-01-31  1.688945e+08\n",
       "24 2012-02-29  1.920636e+08\n",
       "25 2012-03-31  2.315097e+08\n",
       "26 2012-04-30  1.889209e+08\n",
       "27 2012-05-31  1.887665e+08\n",
       "28 2012-06-30  2.406103e+08\n",
       "29 2012-07-31  1.875095e+08\n",
       "30 2012-08-31  2.368508e+08\n",
       "31 2012-09-30  1.806455e+08\n",
       "32 2012-10-31  1.843617e+08"
      ]
     },
     "execution_count": 38,
     "metadata": {},
     "output_type": "execute_result"
    }
   ],
   "source": [
    "df_monthly"
   ]
  },
  {
   "cell_type": "code",
   "execution_count": 39,
   "id": "fb7adaf2-f0af-47c0-8884-0072d9b05af9",
   "metadata": {},
   "outputs": [],
   "source": [
    "df_sem = df.groupby(pd.Grouper(key='Date',freq='6M'))['Weekly_Sales'].sum().reset_index()"
   ]
  },
  {
   "cell_type": "code",
   "execution_count": 40,
   "id": "7ab826e0-36bb-41d3-9ffc-2b7821f53065",
   "metadata": {},
   "outputs": [
    {
     "data": {
      "text/html": [
       "<div>\n",
       "<style scoped>\n",
       "    .dataframe tbody tr th:only-of-type {\n",
       "        vertical-align: middle;\n",
       "    }\n",
       "\n",
       "    .dataframe tbody tr th {\n",
       "        vertical-align: top;\n",
       "    }\n",
       "\n",
       "    .dataframe thead th {\n",
       "        text-align: right;\n",
       "    }\n",
       "</style>\n",
       "<table border=\"1\" class=\"dataframe\">\n",
       "  <thead>\n",
       "    <tr style=\"text-align: right;\">\n",
       "      <th></th>\n",
       "      <th>Date</th>\n",
       "      <th>Weekly_Sales</th>\n",
       "    </tr>\n",
       "  </thead>\n",
       "  <tbody>\n",
       "    <tr>\n",
       "      <th>0</th>\n",
       "      <td>2010-02-28</td>\n",
       "      <td>1.903330e+08</td>\n",
       "    </tr>\n",
       "    <tr>\n",
       "      <th>1</th>\n",
       "      <td>2010-08-31</td>\n",
       "      <td>1.212510e+09</td>\n",
       "    </tr>\n",
       "    <tr>\n",
       "      <th>2</th>\n",
       "      <td>2011-02-28</td>\n",
       "      <td>1.236079e+09</td>\n",
       "    </tr>\n",
       "    <tr>\n",
       "      <th>3</th>\n",
       "      <td>2011-08-31</td>\n",
       "      <td>1.195815e+09</td>\n",
       "    </tr>\n",
       "    <tr>\n",
       "      <th>4</th>\n",
       "      <td>2012-02-29</td>\n",
       "      <td>1.263308e+09</td>\n",
       "    </tr>\n",
       "    <tr>\n",
       "      <th>5</th>\n",
       "      <td>2012-08-31</td>\n",
       "      <td>1.274168e+09</td>\n",
       "    </tr>\n",
       "    <tr>\n",
       "      <th>6</th>\n",
       "      <td>2013-02-28</td>\n",
       "      <td>3.650072e+08</td>\n",
       "    </tr>\n",
       "  </tbody>\n",
       "</table>\n",
       "</div>"
      ],
      "text/plain": [
       "        Date  Weekly_Sales\n",
       "0 2010-02-28  1.903330e+08\n",
       "1 2010-08-31  1.212510e+09\n",
       "2 2011-02-28  1.236079e+09\n",
       "3 2011-08-31  1.195815e+09\n",
       "4 2012-02-29  1.263308e+09\n",
       "5 2012-08-31  1.274168e+09\n",
       "6 2013-02-28  3.650072e+08"
      ]
     },
     "execution_count": 40,
     "metadata": {},
     "output_type": "execute_result"
    }
   ],
   "source": [
    "df_sem"
   ]
  },
  {
   "cell_type": "code",
   "execution_count": 41,
   "id": "189f95c2-f8f4-431e-96a3-431484b8701c",
   "metadata": {},
   "outputs": [
    {
     "data": {
      "text/plain": [
       "Text(0.5, 1.0, 'Monthly Sales')"
      ]
     },
     "execution_count": 41,
     "metadata": {},
     "output_type": "execute_result"
    },
    {
     "data": {
      "image/png": "[encoded data removed]",
      "text/plain": [
       "<Figure size 720x576 with 1 Axes>"
      ]
     },
     "metadata": {
      "needs_background": "light"
     },
     "output_type": "display_data"
    }
   ],
   "source": [
    "fig, ax = plt.subplots(figsize=(10,8))\n",
    "x=df_monthly['Date']\n",
    "y=df_monthly['Weekly_Sales']\n",
    "plt.plot(x,y)\n",
    "plt.xlabel('Month')\n",
    "plt.ylabel('Weekly Sales')\n",
    "plt.title('Monthly Sales')\n"
   ]
  },
  {
   "cell_type": "code",
   "execution_count": 42,
   "id": "34924987-8e91-436b-acb5-76186d7516d9",
   "metadata": {},
   "outputs": [
    {
     "data": {
      "image/png": "[encoded data removed]",
      "text/plain": [
       "<Figure size 720x576 with 1 Axes>"
      ]
     },
     "metadata": {
      "needs_background": "light"
     },
     "output_type": "display_data"
    }
   ],
   "source": [
    "fig, ax = plt.subplots(figsize=(10,8))\n",
    "x2=df_sem['Date']\n",
    "y2=df_sem['Weekly_Sales']\n",
    "plt.plot(x2,y2)\n",
    "plt.xlabel('Semester')\n",
    "plt.ylabel('Weekly Sales')\n",
    "plt.title('Semester wise sales')\n",
    "plt.show()"
   ]
  },
  {
   "cell_type": "code",
   "execution_count": 43,
   "id": "61ef14c8-57be-4f68-be6e-27da7aa8b2b1",
   "metadata": {},
   "outputs": [
    {
     "data": {
      "image/png": "[encoded data removed]",
      "text/plain": [
       "<Figure size 432x288 with 2 Axes>"
      ]
     },
     "metadata": {
      "needs_background": "light"
     },
     "output_type": "display_data"
    }
   ],
   "source": [
    "#Correlation of Weekly Sales with other variables \n",
    "ax = sns.heatmap(df.corr(),annot=True,cmap='YlGnBu')\n",
    "plt.rcParams[\"figure.figsize\"] = (20,10)"
   ]
  },
  {
   "cell_type": "code",
   "execution_count": 44,
   "id": "4b4aa507-db84-4134-b594-df6f6bcc9eae",
   "metadata": {},
   "outputs": [
    {
     "data": {
      "text/plain": [
       "Store           0\n",
       "Date            0\n",
       "Weekly_Sales    0\n",
       "Holiday_Flag    0\n",
       "Temperature     0\n",
       "Fuel_Price      0\n",
       "CPI             0\n",
       "Unemployment    0\n",
       "quarter         0\n",
       "dtype: int64"
      ]
     },
     "execution_count": 44,
     "metadata": {},
     "output_type": "execute_result"
    }
   ],
   "source": [
    "#Missing Values\n",
    "df.isnull().sum()"
   ]
  },
  {
   "cell_type": "code",
   "execution_count": 45,
   "id": "e4798d13-12ea-4d28-b14d-54aac4ddad59",
   "metadata": {},
   "outputs": [],
   "source": [
    "df_latest = df[df['Store']==1].sort_values('Date',ascending=True)"
   ]
  },
  {
   "cell_type": "code",
   "execution_count": 46,
   "id": "eac70ef9-8d61-4fe7-a66d-9e7eaf4cf5ce",
   "metadata": {},
   "outputs": [
    {
     "data": {
      "text/html": [
       "<div>\n",
       "<style scoped>\n",
       "    .dataframe tbody tr th:only-of-type {\n",
       "        vertical-align: middle;\n",
       "    }\n",
       "\n",
       "    .dataframe tbody tr th {\n",
       "        vertical-align: top;\n",
       "    }\n",
       "\n",
       "    .dataframe thead th {\n",
       "        text-align: right;\n",
       "    }\n",
       "</style>\n",
       "<table border=\"1\" class=\"dataframe\">\n",
       "  <thead>\n",
       "    <tr style=\"text-align: right;\">\n",
       "      <th></th>\n",
       "      <th>Store</th>\n",
       "      <th>Date</th>\n",
       "      <th>Weekly_Sales</th>\n",
       "      <th>Holiday_Flag</th>\n",
       "      <th>Temperature</th>\n",
       "      <th>Fuel_Price</th>\n",
       "      <th>CPI</th>\n",
       "      <th>Unemployment</th>\n",
       "      <th>quarter</th>\n",
       "    </tr>\n",
       "  </thead>\n",
       "  <tbody>\n",
       "    <tr>\n",
       "      <th>0</th>\n",
       "      <td>1</td>\n",
       "      <td>1</td>\n",
       "      <td>1643690.90</td>\n",
       "      <td>0</td>\n",
       "      <td>42.31</td>\n",
       "      <td>2.572</td>\n",
       "      <td>211.096358</td>\n",
       "      <td>8.106</td>\n",
       "      <td>1</td>\n",
       "    </tr>\n",
       "    <tr>\n",
       "      <th>1</th>\n",
       "      <td>1</td>\n",
       "      <td>2</td>\n",
       "      <td>1641957.44</td>\n",
       "      <td>1</td>\n",
       "      <td>38.51</td>\n",
       "      <td>2.548</td>\n",
       "      <td>211.242170</td>\n",
       "      <td>8.106</td>\n",
       "      <td>1</td>\n",
       "    </tr>\n",
       "    <tr>\n",
       "      <th>2</th>\n",
       "      <td>1</td>\n",
       "      <td>3</td>\n",
       "      <td>1611968.17</td>\n",
       "      <td>0</td>\n",
       "      <td>39.93</td>\n",
       "      <td>2.514</td>\n",
       "      <td>211.289143</td>\n",
       "      <td>8.106</td>\n",
       "      <td>1</td>\n",
       "    </tr>\n",
       "    <tr>\n",
       "      <th>3</th>\n",
       "      <td>1</td>\n",
       "      <td>4</td>\n",
       "      <td>1409727.59</td>\n",
       "      <td>0</td>\n",
       "      <td>46.63</td>\n",
       "      <td>2.561</td>\n",
       "      <td>211.319643</td>\n",
       "      <td>8.106</td>\n",
       "      <td>1</td>\n",
       "    </tr>\n",
       "    <tr>\n",
       "      <th>4</th>\n",
       "      <td>1</td>\n",
       "      <td>5</td>\n",
       "      <td>1554806.68</td>\n",
       "      <td>0</td>\n",
       "      <td>46.50</td>\n",
       "      <td>2.625</td>\n",
       "      <td>211.350143</td>\n",
       "      <td>8.106</td>\n",
       "      <td>1</td>\n",
       "    </tr>\n",
       "  </tbody>\n",
       "</table>\n",
       "</div>"
      ],
      "text/plain": [
       "   Store  Date  Weekly_Sales  Holiday_Flag  Temperature  Fuel_Price  \\\n",
       "0      1     1    1643690.90             0        42.31       2.572   \n",
       "1      1     2    1641957.44             1        38.51       2.548   \n",
       "2      1     3    1611968.17             0        39.93       2.514   \n",
       "3      1     4    1409727.59             0        46.63       2.561   \n",
       "4      1     5    1554806.68             0        46.50       2.625   \n",
       "\n",
       "          CPI  Unemployment  quarter  \n",
       "0  211.096358         8.106        1  \n",
       "1  211.242170         8.106        1  \n",
       "2  211.289143         8.106        1  \n",
       "3  211.319643         8.106        1  \n",
       "4  211.350143         8.106        1  "
      ]
     },
     "execution_count": 46,
     "metadata": {},
     "output_type": "execute_result"
    }
   ],
   "source": [
    "#Converting Date feature into numbers\n",
    "\n",
    "date_col = df[df['Store']==1][['Date']]\n",
    "date_col.index += 1\n",
    "df_latest['Date'] = date_col.index\n",
    "df_latest.head()"
   ]
  },
  {
   "cell_type": "code",
   "execution_count": 47,
   "id": "95136cb7-bbf7-479b-91cc-ea0c92837239",
   "metadata": {},
   "outputs": [],
   "source": [
    "numerical_features= [feature for feature in df.columns if df[feature].dtype!='O']"
   ]
  },
  {
   "cell_type": "code",
   "execution_count": 48,
   "id": "0bc0d8fe-ff71-4938-8011-f3ab16fedbcf",
   "metadata": {},
   "outputs": [],
   "source": [
    "discrete_variable = [feature for feature in numerical_features if feature not in ['Store','Date','quarter','Weekly_Sales'] and len(df[feature].unique())<25]"
   ]
  },
  {
   "cell_type": "code",
   "execution_count": 49,
   "id": "6e7149b3-03ee-4f2c-836c-4efc58c92519",
   "metadata": {},
   "outputs": [],
   "source": [
    "continuous_variable= [feature for feature in numerical_features if feature not in discrete_variable + ['Store','Date','quarter','Weekly_Sales']]"
   ]
  },
  {
   "cell_type": "code",
   "execution_count": 79,
   "id": "204d1f3c-ab2a-4762-b1ee-737f8cfcf6ae",
   "metadata": {},
   "outputs": [
    {
     "data": {
      "image/png": "[encoded data removed]",
      "text/plain": [
       "<Figure size 1440x720 with 1 Axes>"
      ]
     },
     "metadata": {
      "needs_background": "light"
     },
     "output_type": "display_data"
    },
    {
     "data": {
      "image/png": "[encoded data removed]",
      "text/plain": [
       "<Figure size 1440x720 with 1 Axes>"
      ]
     },
     "metadata": {
      "needs_background": "light"
     },
     "output_type": "display_data"
    },
    {
     "data": {
      "image/png": "[encoded data removed]",
      "text/plain": [
       "<Figure size 1440x720 with 1 Axes>"
      ]
     },
     "metadata": {
      "needs_background": "light"
     },
     "output_type": "display_data"
    },
    {
     "data": {
      "image/png": "[encoded data removed]",
      "text/plain": [
       "<Figure size 1440x720 with 1 Axes>"
      ]
     },
     "metadata": {
      "needs_background": "light"
     },
     "output_type": "display_data"
    }
   ],
   "source": [
    "for feature in continuous_variable:\n",
    "    data=df.copy()\n",
    "    if 0 in data[feature].unique():\n",
    "        pass\n",
    "    else:\n",
    "        (data[feature]).hist(bins=25)\n",
    "    plt.xlabel(feature)\n",
    "    plt.ylabel('Count')\n",
    "    plt.title(feature)\n",
    "    plt.show()\n",
    "        "
   ]
  },
  {
   "cell_type": "code",
   "execution_count": 50,
   "id": "c85a25d5-5671-4269-9d6c-b8a994761ab2",
   "metadata": {},
   "outputs": [
    {
     "name": "stderr",
     "output_type": "stream",
     "text": [
      "C:\\Users\\sathi\\anaconda3\\lib\\site-packages\\pandas\\core\\arraylike.py:358: RuntimeWarning: invalid value encountered in log\n",
      "  result = getattr(ufunc, method)(*inputs, **kwargs)\n"
     ]
    },
    {
     "data": {
      "image/png": "[encoded data removed]",
      "text/plain": [
       "<Figure size 1440x720 with 1 Axes>"
      ]
     },
     "metadata": {
      "needs_background": "light"
     },
     "output_type": "display_data"
    },
    {
     "data": {
      "image/png": "[encoded data removed]",
      "text/plain": [
       "<Figure size 1440x720 with 1 Axes>"
      ]
     },
     "metadata": {
      "needs_background": "light"
     },
     "output_type": "display_data"
    },
    {
     "data": {
      "image/png": "[encoded data removed]",
      "text/plain": [
       "<Figure size 1440x720 with 1 Axes>"
      ]
     },
     "metadata": {
      "needs_background": "light"
     },
     "output_type": "display_data"
    },
    {
     "data": {
      "image/png": "[encoded data removed]",
      "text/plain": [
       "<Figure size 1440x720 with 1 Axes>"
      ]
     },
     "metadata": {
      "needs_background": "light"
     },
     "output_type": "display_data"
    }
   ],
   "source": [
    "for feature in continuous_variable:\n",
    "    data=df.copy()\n",
    "    if 0 in data[feature].unique():\n",
    "        pass\n",
    "    else:\n",
    "        np.log(data[feature]).hist(bins=25)\n",
    "    plt.xlabel(feature)\n",
    "    plt.ylabel('Count')\n",
    "    plt.title(feature)\n",
    "    plt.show()\n",
    "        \n",
    "    "
   ]
  },
  {
   "cell_type": "code",
   "execution_count": 51,
   "id": "11eac037-d6e8-49d2-bb24-b01954b151e5",
   "metadata": {},
   "outputs": [],
   "source": [
    "from tabulate import tabulate"
   ]
  },
  {
   "cell_type": "code",
   "execution_count": 84,
   "id": "fac250b3-e91e-4485-bee6-7415a77e92aa",
   "metadata": {},
   "outputs": [
    {
     "name": "stdout",
     "output_type": "stream",
     "text": [
      "After Log Transformation Temperature -1.2585709080122456 Before Log Transformation -0.3367676011075799\n",
      "After Log Transformation Fuel_Price -0.25814440439559483 Before Log Transformation -0.09615830011865549\n",
      "After Log Transformation CPI 0.013618977787907077 Before Log Transformation 0.06349184988549494\n",
      "After Log Transformation Unemployment 0.09970257895662032 Before Log Transformation 1.1881439334843265\n"
     ]
    },
    {
     "ename": "TypeError",
     "evalue": "Index(...) must be called with a collection of some kind, 'Unemployment' was passed",
     "output_type": "error",
     "traceback": [
      "\u001b[1;31m---------------------------------------------------------------------------\u001b[0m",
      "\u001b[1;31mTypeError\u001b[0m                                 Traceback (most recent call last)",
      "\u001b[1;32m<ipython-input-84-dbb7f4b3aa08>\u001b[0m in \u001b[0;36m<module>\u001b[1;34m\u001b[0m\n\u001b[0;32m      4\u001b[0m        \u001b[1;32melse\u001b[0m\u001b[1;33m:\u001b[0m\u001b[1;33m\u001b[0m\u001b[1;33m\u001b[0m\u001b[0m\n\u001b[0;32m      5\u001b[0m            \u001b[0mprint\u001b[0m\u001b[1;33m(\u001b[0m\u001b[1;34m'After Log Transformation '\u001b[0m\u001b[1;33m+\u001b[0m\u001b[0mfeature\u001b[0m\u001b[1;33m,\u001b[0m\u001b[0mnp\u001b[0m\u001b[1;33m.\u001b[0m\u001b[0mlog\u001b[0m\u001b[1;33m(\u001b[0m\u001b[0mdf\u001b[0m\u001b[1;33m[\u001b[0m\u001b[0mfeature\u001b[0m\u001b[1;33m]\u001b[0m\u001b[1;33m)\u001b[0m\u001b[1;33m.\u001b[0m\u001b[0mskew\u001b[0m\u001b[1;33m(\u001b[0m\u001b[1;33m)\u001b[0m\u001b[1;33m,\u001b[0m\u001b[1;34m'Before Log Transformation'\u001b[0m\u001b[1;33m,\u001b[0m\u001b[1;33m(\u001b[0m\u001b[0mdf\u001b[0m\u001b[1;33m[\u001b[0m\u001b[0mfeature\u001b[0m\u001b[1;33m]\u001b[0m\u001b[1;33m.\u001b[0m\u001b[0mskew\u001b[0m\u001b[1;33m(\u001b[0m\u001b[1;33m)\u001b[0m\u001b[1;33m)\u001b[0m\u001b[1;33m)\u001b[0m\u001b[1;33m\u001b[0m\u001b[1;33m\u001b[0m\u001b[0m\n\u001b[1;32m----> 6\u001b[1;33m \u001b[0mpd\u001b[0m\u001b[1;33m.\u001b[0m\u001b[0mDataFrame\u001b[0m\u001b[1;33m(\u001b[0m\u001b[1;33m[\u001b[0m\u001b[1;33m(\u001b[0m\u001b[0mdf\u001b[0m\u001b[1;33m[\u001b[0m\u001b[0mcontinuous_variable\u001b[0m\u001b[1;33m]\u001b[0m\u001b[1;33m.\u001b[0m\u001b[0mskew\u001b[0m\u001b[1;33m(\u001b[0m\u001b[1;33m)\u001b[0m\u001b[1;33m)\u001b[0m\u001b[1;33m,\u001b[0m\u001b[0mnp\u001b[0m\u001b[1;33m.\u001b[0m\u001b[0mlog\u001b[0m\u001b[1;33m(\u001b[0m\u001b[0mdf\u001b[0m\u001b[1;33m[\u001b[0m\u001b[0mcontinuous_variable\u001b[0m\u001b[1;33m]\u001b[0m\u001b[1;33m)\u001b[0m\u001b[1;33m.\u001b[0m\u001b[0mskew\u001b[0m\u001b[1;33m(\u001b[0m\u001b[1;33m)\u001b[0m\u001b[1;33m]\u001b[0m\u001b[1;33m,\u001b[0m\u001b[0mindex\u001b[0m\u001b[1;33m=\u001b[0m\u001b[0mfeature\u001b[0m\u001b[1;33m,\u001b[0m\u001b[0mcolumns\u001b[0m\u001b[1;33m=\u001b[0m\u001b[1;33m[\u001b[0m\u001b[1;34m'Before Log Transformation'\u001b[0m\u001b[1;33m,\u001b[0m\u001b[1;34m'After Log Transformation'\u001b[0m\u001b[1;33m]\u001b[0m\u001b[1;33m)\u001b[0m\u001b[1;33m\u001b[0m\u001b[1;33m\u001b[0m\u001b[0m\n\u001b[0m",
      "\u001b[1;32m~\\anaconda3\\lib\\site-packages\\pandas\\core\\frame.py\u001b[0m in \u001b[0;36m__init__\u001b[1;34m(self, data, index, columns, dtype, copy)\u001b[0m\n\u001b[0;32m    580\u001b[0m                             \u001b[0mindex\u001b[0m \u001b[1;33m=\u001b[0m \u001b[0mibase\u001b[0m\u001b[1;33m.\u001b[0m\u001b[0mdefault_index\u001b[0m\u001b[1;33m(\u001b[0m\u001b[0mlen\u001b[0m\u001b[1;33m(\u001b[0m\u001b[0mdata\u001b[0m\u001b[1;33m)\u001b[0m\u001b[1;33m)\u001b[0m\u001b[1;33m\u001b[0m\u001b[1;33m\u001b[0m\u001b[0m\n\u001b[0;32m    581\u001b[0m \u001b[1;33m\u001b[0m\u001b[0m\n\u001b[1;32m--> 582\u001b[1;33m                     \u001b[0mmgr\u001b[0m \u001b[1;33m=\u001b[0m \u001b[0marrays_to_mgr\u001b[0m\u001b[1;33m(\u001b[0m\u001b[0marrays\u001b[0m\u001b[1;33m,\u001b[0m \u001b[0mcolumns\u001b[0m\u001b[1;33m,\u001b[0m \u001b[0mindex\u001b[0m\u001b[1;33m,\u001b[0m \u001b[0mcolumns\u001b[0m\u001b[1;33m,\u001b[0m \u001b[0mdtype\u001b[0m\u001b[1;33m=\u001b[0m\u001b[0mdtype\u001b[0m\u001b[1;33m)\u001b[0m\u001b[1;33m\u001b[0m\u001b[1;33m\u001b[0m\u001b[0m\n\u001b[0m\u001b[0;32m    583\u001b[0m                 \u001b[1;32melse\u001b[0m\u001b[1;33m:\u001b[0m\u001b[1;33m\u001b[0m\u001b[1;33m\u001b[0m\u001b[0m\n\u001b[0;32m    584\u001b[0m                     \u001b[0mmgr\u001b[0m \u001b[1;33m=\u001b[0m \u001b[0minit_ndarray\u001b[0m\u001b[1;33m(\u001b[0m\u001b[0mdata\u001b[0m\u001b[1;33m,\u001b[0m \u001b[0mindex\u001b[0m\u001b[1;33m,\u001b[0m \u001b[0mcolumns\u001b[0m\u001b[1;33m,\u001b[0m \u001b[0mdtype\u001b[0m\u001b[1;33m=\u001b[0m\u001b[0mdtype\u001b[0m\u001b[1;33m,\u001b[0m \u001b[0mcopy\u001b[0m\u001b[1;33m=\u001b[0m\u001b[0mcopy\u001b[0m\u001b[1;33m)\u001b[0m\u001b[1;33m\u001b[0m\u001b[1;33m\u001b[0m\u001b[0m\n",
      "\u001b[1;32m~\\anaconda3\\lib\\site-packages\\pandas\\core\\internals\\construction.py\u001b[0m in \u001b[0;36marrays_to_mgr\u001b[1;34m(arrays, arr_names, index, columns, dtype, verify_integrity)\u001b[0m\n\u001b[0;32m     80\u001b[0m             \u001b[0mindex\u001b[0m \u001b[1;33m=\u001b[0m \u001b[0mextract_index\u001b[0m\u001b[1;33m(\u001b[0m\u001b[0marrays\u001b[0m\u001b[1;33m)\u001b[0m\u001b[1;33m\u001b[0m\u001b[1;33m\u001b[0m\u001b[0m\n\u001b[0;32m     81\u001b[0m         \u001b[1;32melse\u001b[0m\u001b[1;33m:\u001b[0m\u001b[1;33m\u001b[0m\u001b[1;33m\u001b[0m\u001b[0m\n\u001b[1;32m---> 82\u001b[1;33m             \u001b[0mindex\u001b[0m \u001b[1;33m=\u001b[0m \u001b[0mensure_index\u001b[0m\u001b[1;33m(\u001b[0m\u001b[0mindex\u001b[0m\u001b[1;33m)\u001b[0m\u001b[1;33m\u001b[0m\u001b[1;33m\u001b[0m\u001b[0m\n\u001b[0m\u001b[0;32m     83\u001b[0m \u001b[1;33m\u001b[0m\u001b[0m\n\u001b[0;32m     84\u001b[0m         \u001b[1;31m# don't force copy because getting jammed in an ndarray anyway\u001b[0m\u001b[1;33m\u001b[0m\u001b[1;33m\u001b[0m\u001b[1;33m\u001b[0m\u001b[0m\n",
      "\u001b[1;32m~\\anaconda3\\lib\\site-packages\\pandas\\core\\indexes\\base.py\u001b[0m in \u001b[0;36mensure_index\u001b[1;34m(index_like, copy)\u001b[0m\n\u001b[0;32m   5915\u001b[0m             \u001b[0mindex_like\u001b[0m \u001b[1;33m=\u001b[0m \u001b[0mcopy_func\u001b[0m\u001b[1;33m(\u001b[0m\u001b[0mindex_like\u001b[0m\u001b[1;33m)\u001b[0m\u001b[1;33m\u001b[0m\u001b[1;33m\u001b[0m\u001b[0m\n\u001b[0;32m   5916\u001b[0m \u001b[1;33m\u001b[0m\u001b[0m\n\u001b[1;32m-> 5917\u001b[1;33m     \u001b[1;32mreturn\u001b[0m \u001b[0mIndex\u001b[0m\u001b[1;33m(\u001b[0m\u001b[0mindex_like\u001b[0m\u001b[1;33m)\u001b[0m\u001b[1;33m\u001b[0m\u001b[1;33m\u001b[0m\u001b[0m\n\u001b[0m\u001b[0;32m   5918\u001b[0m \u001b[1;33m\u001b[0m\u001b[0m\n\u001b[0;32m   5919\u001b[0m \u001b[1;33m\u001b[0m\u001b[0m\n",
      "\u001b[1;32m~\\anaconda3\\lib\\site-packages\\pandas\\core\\indexes\\base.py\u001b[0m in \u001b[0;36m__new__\u001b[1;34m(cls, data, dtype, copy, name, tupleize_cols, **kwargs)\u001b[0m\n\u001b[0;32m    370\u001b[0m \u001b[1;33m\u001b[0m\u001b[0m\n\u001b[0;32m    371\u001b[0m         \u001b[1;32melif\u001b[0m \u001b[0mdata\u001b[0m \u001b[1;32mis\u001b[0m \u001b[1;32mNone\u001b[0m \u001b[1;32mor\u001b[0m \u001b[0mis_scalar\u001b[0m\u001b[1;33m(\u001b[0m\u001b[0mdata\u001b[0m\u001b[1;33m)\u001b[0m\u001b[1;33m:\u001b[0m\u001b[1;33m\u001b[0m\u001b[1;33m\u001b[0m\u001b[0m\n\u001b[1;32m--> 372\u001b[1;33m             \u001b[1;32mraise\u001b[0m \u001b[0mcls\u001b[0m\u001b[1;33m.\u001b[0m\u001b[0m_scalar_data_error\u001b[0m\u001b[1;33m(\u001b[0m\u001b[0mdata\u001b[0m\u001b[1;33m)\u001b[0m\u001b[1;33m\u001b[0m\u001b[1;33m\u001b[0m\u001b[0m\n\u001b[0m\u001b[0;32m    373\u001b[0m         \u001b[1;32melif\u001b[0m \u001b[0mhasattr\u001b[0m\u001b[1;33m(\u001b[0m\u001b[0mdata\u001b[0m\u001b[1;33m,\u001b[0m \u001b[1;34m\"__array__\"\u001b[0m\u001b[1;33m)\u001b[0m\u001b[1;33m:\u001b[0m\u001b[1;33m\u001b[0m\u001b[1;33m\u001b[0m\u001b[0m\n\u001b[0;32m    374\u001b[0m             \u001b[1;32mreturn\u001b[0m \u001b[0mIndex\u001b[0m\u001b[1;33m(\u001b[0m\u001b[0mnp\u001b[0m\u001b[1;33m.\u001b[0m\u001b[0masarray\u001b[0m\u001b[1;33m(\u001b[0m\u001b[0mdata\u001b[0m\u001b[1;33m)\u001b[0m\u001b[1;33m,\u001b[0m \u001b[0mdtype\u001b[0m\u001b[1;33m=\u001b[0m\u001b[0mdtype\u001b[0m\u001b[1;33m,\u001b[0m \u001b[0mcopy\u001b[0m\u001b[1;33m=\u001b[0m\u001b[0mcopy\u001b[0m\u001b[1;33m,\u001b[0m \u001b[0mname\u001b[0m\u001b[1;33m=\u001b[0m\u001b[0mname\u001b[0m\u001b[1;33m,\u001b[0m \u001b[1;33m**\u001b[0m\u001b[0mkwargs\u001b[0m\u001b[1;33m)\u001b[0m\u001b[1;33m\u001b[0m\u001b[1;33m\u001b[0m\u001b[0m\n",
      "\u001b[1;31mTypeError\u001b[0m: Index(...) must be called with a collection of some kind, 'Unemployment' was passed"
     ]
    }
   ],
   "source": [
    " for feature in continuous_variable:\n",
    "        if 0 in df[feature].unique():\n",
    "            pass\n",
    "        else:\n",
    "            print('After Log Transformation '+feature,np.log(df[feature]).skew(),'Before Log Transformation',(df[feature].skew()))\n",
    "pd.DataFrame([(df[continuous_variable].skew()),np.log(df[continuous_variable]).skew()],index=feature,columns=['Before Log Transformation','After Log Transformation'])"
   ]
  },
  {
   "cell_type": "code",
   "execution_count": 53,
   "id": "cf6f1d10-cbbd-4f62-b70e-b759001bc2f5",
   "metadata": {},
   "outputs": [
    {
     "data": {
      "text/plain": [
       "1.1881439334843265"
      ]
     },
     "execution_count": 53,
     "metadata": {},
     "output_type": "execute_result"
    }
   ],
   "source": [
    "df['Unemployment'].skew()"
   ]
  },
  {
   "cell_type": "code",
   "execution_count": 585,
   "id": "35e2eeab-ed84-418f-8fd4-a14ed1f65a96",
   "metadata": {},
   "outputs": [],
   "source": [
    " for feature in continuous_variable[0:3]:\n",
    "        if 0 in df[feature].unique():\n",
    "            pass\n",
    "        else:\n",
    "            df[feature]=np.log(data[feature])\n",
    "        "
   ]
  },
  {
   "cell_type": "code",
   "execution_count": 586,
   "id": "b44bf703-dcb5-413f-b930-2460193bb7dd",
   "metadata": {},
   "outputs": [
    {
     "data": {
      "text/html": [
       "<div>\n",
       "<style scoped>\n",
       "    .dataframe tbody tr th:only-of-type {\n",
       "        vertical-align: middle;\n",
       "    }\n",
       "\n",
       "    .dataframe tbody tr th {\n",
       "        vertical-align: top;\n",
       "    }\n",
       "\n",
       "    .dataframe thead th {\n",
       "        text-align: right;\n",
       "    }\n",
       "</style>\n",
       "<table border=\"1\" class=\"dataframe\">\n",
       "  <thead>\n",
       "    <tr style=\"text-align: right;\">\n",
       "      <th></th>\n",
       "      <th>Store</th>\n",
       "      <th>Date</th>\n",
       "      <th>Weekly_Sales</th>\n",
       "      <th>Holiday_Flag</th>\n",
       "      <th>Temperature</th>\n",
       "      <th>Fuel_Price</th>\n",
       "      <th>CPI</th>\n",
       "      <th>Unemployment</th>\n",
       "      <th>quarter</th>\n",
       "    </tr>\n",
       "  </thead>\n",
       "  <tbody>\n",
       "    <tr>\n",
       "      <th>0</th>\n",
       "      <td>1</td>\n",
       "      <td>2010-02-05</td>\n",
       "      <td>1643690.90</td>\n",
       "      <td>0</td>\n",
       "      <td>1.320428</td>\n",
       "      <td>-0.056905</td>\n",
       "      <td>1.677529</td>\n",
       "      <td>8.11</td>\n",
       "      <td>1</td>\n",
       "    </tr>\n",
       "    <tr>\n",
       "      <th>1</th>\n",
       "      <td>1</td>\n",
       "      <td>2010-02-12</td>\n",
       "      <td>1641957.44</td>\n",
       "      <td>1</td>\n",
       "      <td>1.294979</td>\n",
       "      <td>-0.066879</td>\n",
       "      <td>1.677658</td>\n",
       "      <td>8.11</td>\n",
       "      <td>1</td>\n",
       "    </tr>\n",
       "    <tr>\n",
       "      <th>2</th>\n",
       "      <td>1</td>\n",
       "      <td>2010-02-19</td>\n",
       "      <td>1611968.17</td>\n",
       "      <td>0</td>\n",
       "      <td>1.304848</td>\n",
       "      <td>-0.081346</td>\n",
       "      <td>1.677700</td>\n",
       "      <td>8.11</td>\n",
       "      <td>1</td>\n",
       "    </tr>\n",
       "    <tr>\n",
       "      <th>3</th>\n",
       "      <td>1</td>\n",
       "      <td>2010-02-26</td>\n",
       "      <td>1409727.59</td>\n",
       "      <td>0</td>\n",
       "      <td>1.346057</td>\n",
       "      <td>-0.061452</td>\n",
       "      <td>1.677727</td>\n",
       "      <td>8.11</td>\n",
       "      <td>1</td>\n",
       "    </tr>\n",
       "    <tr>\n",
       "      <th>4</th>\n",
       "      <td>1</td>\n",
       "      <td>2010-03-05</td>\n",
       "      <td>1554806.68</td>\n",
       "      <td>0</td>\n",
       "      <td>1.345330</td>\n",
       "      <td>-0.035543</td>\n",
       "      <td>1.677754</td>\n",
       "      <td>8.11</td>\n",
       "      <td>1</td>\n",
       "    </tr>\n",
       "  </tbody>\n",
       "</table>\n",
       "</div>"
      ],
      "text/plain": [
       "   Store       Date  Weekly_Sales  Holiday_Flag  Temperature  Fuel_Price  \\\n",
       "0      1 2010-02-05    1643690.90             0     1.320428   -0.056905   \n",
       "1      1 2010-02-12    1641957.44             1     1.294979   -0.066879   \n",
       "2      1 2010-02-19    1611968.17             0     1.304848   -0.081346   \n",
       "3      1 2010-02-26    1409727.59             0     1.346057   -0.061452   \n",
       "4      1 2010-03-05    1554806.68             0     1.345330   -0.035543   \n",
       "\n",
       "        CPI  Unemployment  quarter  \n",
       "0  1.677529          8.11        1  \n",
       "1  1.677658          8.11        1  \n",
       "2  1.677700          8.11        1  \n",
       "3  1.677727          8.11        1  \n",
       "4  1.677754          8.11        1  "
      ]
     },
     "execution_count": 586,
     "metadata": {},
     "output_type": "execute_result"
    }
   ],
   "source": [
    "df.head()"
   ]
  },
  {
   "cell_type": "code",
   "execution_count": null,
   "id": "481a4f95-1982-4c88-b0eb-e58b9b689e0a",
   "metadata": {},
   "outputs": [],
   "source": [
    "for feature  in df[continuous_variable]:\n",
    "    df[feature] = round(df[feature],2)"
   ]
  },
  {
   "cell_type": "code",
   "execution_count": 591,
   "id": "5636814e-dd13-4cc6-b944-6eac4b9f9ae9",
   "metadata": {},
   "outputs": [
    {
     "data": {
      "text/plain": [
       "0"
      ]
     },
     "execution_count": 591,
     "metadata": {},
     "output_type": "execute_result"
    }
   ],
   "source": []
  },
  {
   "cell_type": "code",
   "execution_count": 86,
   "id": "0252b26e-f09b-4e98-bf92-180203947619",
   "metadata": {},
   "outputs": [],
   "source": [
    "from sklearn.model_selection import train_test_split\n",
    "x_train,x_test,y_train,y_test = train_test_split(df[continuous_variable],df['Weekly_Sales'],test_size=0.3)"
   ]
  },
  {
   "cell_type": "code",
   "execution_count": 576,
   "id": "51b85598-7b54-46c2-9fcd-58a7a77b0fc6",
   "metadata": {},
   "outputs": [
    {
     "data": {
      "text/html": [
       "<div>\n",
       "<style scoped>\n",
       "    .dataframe tbody tr th:only-of-type {\n",
       "        vertical-align: middle;\n",
       "    }\n",
       "\n",
       "    .dataframe tbody tr th {\n",
       "        vertical-align: top;\n",
       "    }\n",
       "\n",
       "    .dataframe thead th {\n",
       "        text-align: right;\n",
       "    }\n",
       "</style>\n",
       "<table border=\"1\" class=\"dataframe\">\n",
       "  <thead>\n",
       "    <tr style=\"text-align: right;\">\n",
       "      <th></th>\n",
       "      <th>Temperature</th>\n",
       "      <th>Fuel_Price</th>\n",
       "      <th>CPI</th>\n",
       "      <th>Unemployment</th>\n",
       "    </tr>\n",
       "  </thead>\n",
       "  <tbody>\n",
       "    <tr>\n",
       "      <th>954</th>\n",
       "      <td>2.41</td>\n",
       "      <td>1.20</td>\n",
       "      <td>5.28</td>\n",
       "      <td>8.51</td>\n",
       "    </tr>\n",
       "    <tr>\n",
       "      <th>998</th>\n",
       "      <td>3.72</td>\n",
       "      <td>1.32</td>\n",
       "      <td>5.29</td>\n",
       "      <td>7.56</td>\n",
       "    </tr>\n",
       "    <tr>\n",
       "      <th>4159</th>\n",
       "      <td>4.20</td>\n",
       "      <td>1.02</td>\n",
       "      <td>5.35</td>\n",
       "      <td>8.20</td>\n",
       "    </tr>\n",
       "    <tr>\n",
       "      <th>877</th>\n",
       "      <td>3.96</td>\n",
       "      <td>0.98</td>\n",
       "      <td>5.24</td>\n",
       "      <td>8.96</td>\n",
       "    </tr>\n",
       "    <tr>\n",
       "      <th>911</th>\n",
       "      <td>2.33</td>\n",
       "      <td>1.11</td>\n",
       "      <td>5.26</td>\n",
       "      <td>8.82</td>\n",
       "    </tr>\n",
       "  </tbody>\n",
       "</table>\n",
       "</div>"
      ],
      "text/plain": [
       "      Temperature  Fuel_Price   CPI  Unemployment\n",
       "954          2.41        1.20  5.28          8.51\n",
       "998          3.72        1.32  5.29          7.56\n",
       "4159         4.20        1.02  5.35          8.20\n",
       "877          3.96        0.98  5.24          8.96\n",
       "911          2.33        1.11  5.26          8.82"
      ]
     },
     "execution_count": 576,
     "metadata": {},
     "output_type": "execute_result"
    }
   ],
   "source": [
    "x_train.head()"
   ]
  },
  {
   "cell_type": "code",
   "execution_count": 87,
   "id": "3815ca8b-69c0-4974-bd0b-9d3fa31be487",
   "metadata": {},
   "outputs": [
    {
     "data": {
      "text/plain": [
       "LinearRegression()"
      ]
     },
     "execution_count": 87,
     "metadata": {},
     "output_type": "execute_result"
    }
   ],
   "source": [
    "from sklearn.linear_model import LinearRegression\n",
    "linreg = LinearRegression()\n",
    "linreg.fit(x_train,y_train)"
   ]
  },
  {
   "cell_type": "code",
   "execution_count": 92,
   "id": "db4f1ad4-eabf-4f03-b03e-3f3432b174c9",
   "metadata": {},
   "outputs": [],
   "source": [
    "y_pred = linreg.predict(x_test)"
   ]
  },
  {
   "cell_type": "code",
   "execution_count": 91,
   "id": "5a23c9db-0c70-4127-b6e2-886bc9ba26ad",
   "metadata": {},
   "outputs": [
    {
     "data": {
      "text/plain": [
       "False"
      ]
     },
     "execution_count": 91,
     "metadata": {},
     "output_type": "execute_result"
    }
   ],
   "source": [
    "np.all(np.isfinite(df))\n",
    "np.any(np.isnan(df))"
   ]
  },
  {
   "cell_type": "code",
   "execution_count": 96,
   "id": "8ff9cf8c-b2ae-4d60-8f92-c0c295a2f88c",
   "metadata": {},
   "outputs": [
    {
     "data": {
      "text/plain": [
       "0.020233979825437176"
      ]
     },
     "execution_count": 96,
     "metadata": {},
     "output_type": "execute_result"
    }
   ],
   "source": [
    "from sklearn import metrics\n",
    "linreg.score(x_test,y_test)"
   ]
  },
  {
   "cell_type": "code",
   "execution_count": 97,
   "id": "a34022f7-9471-4232-9e2c-5b867d02e11c",
   "metadata": {},
   "outputs": [
    {
     "name": "stdout",
     "output_type": "stream",
     "text": [
      "Mean Absolute Error: 463557.067967816\n",
      "Mean Squared Error: 301726772584.7323\n",
      "Root Mean Squared Error: 549296.6162145297\n"
     ]
    }
   ],
   "source": [
    "print('Mean Absolute Error:', metrics.mean_absolute_error(y_test, y_pred))\n",
    "print('Mean Squared Error:', metrics.mean_squared_error(y_test, y_pred))\n",
    "print('Root Mean Squared Error:', np.sqrt(metrics.mean_squared_error(y_test, y_pred)))"
   ]
  },
  {
   "cell_type": "code",
   "execution_count": 105,
   "id": "c2e9cf86-7946-43b9-802a-e419256b6126",
   "metadata": {},
   "outputs": [],
   "source": [
    "import statsmodels.formula.api as smf\n",
    "lm = smf.ols('Weekly_Sales~Temperature+Fuel_Price+CPI+Unemployment', data).fit()"
   ]
  },
  {
   "cell_type": "code",
   "execution_count": 106,
   "id": "3e797776-d167-49cb-824a-83f2b77206c6",
   "metadata": {},
   "outputs": [
    {
     "data": {
      "text/html": [
       "<table class=\"simpletable\">\n",
       "<caption>OLS Regression Results</caption>\n",
       "<tr>\n",
       "  <th>Dep. Variable:</th>      <td>Weekly_Sales</td>   <th>  R-squared:         </th> <td>   0.024</td> \n",
       "</tr>\n",
       "<tr>\n",
       "  <th>Model:</th>                   <td>OLS</td>       <th>  Adj. R-squared:    </th> <td>   0.024</td> \n",
       "</tr>\n",
       "<tr>\n",
       "  <th>Method:</th>             <td>Least Squares</td>  <th>  F-statistic:       </th> <td>   40.09</td> \n",
       "</tr>\n",
       "<tr>\n",
       "  <th>Date:</th>             <td>Fri, 20 Aug 2021</td> <th>  Prob (F-statistic):</th> <td>3.21e-33</td> \n",
       "</tr>\n",
       "<tr>\n",
       "  <th>Time:</th>                 <td>13:36:58</td>     <th>  Log-Likelihood:    </th> <td> -94273.</td> \n",
       "</tr>\n",
       "<tr>\n",
       "  <th>No. Observations:</th>      <td>  6435</td>      <th>  AIC:               </th> <td>1.886e+05</td>\n",
       "</tr>\n",
       "<tr>\n",
       "  <th>Df Residuals:</th>          <td>  6430</td>      <th>  BIC:               </th> <td>1.886e+05</td>\n",
       "</tr>\n",
       "<tr>\n",
       "  <th>Df Model:</th>              <td>     4</td>      <th>                     </th>     <td> </td>    \n",
       "</tr>\n",
       "<tr>\n",
       "  <th>Covariance Type:</th>      <td>nonrobust</td>    <th>                     </th>     <td> </td>    \n",
       "</tr>\n",
       "</table>\n",
       "<table class=\"simpletable\">\n",
       "<tr>\n",
       "        <td></td>          <th>coef</th>     <th>std err</th>      <th>t</th>      <th>P>|t|</th>  <th>[0.025</th>    <th>0.975]</th>  \n",
       "</tr>\n",
       "<tr>\n",
       "  <th>Intercept</th>    <td> 1.744e+06</td> <td> 7.96e+04</td> <td>   21.918</td> <td> 0.000</td> <td> 1.59e+06</td> <td>  1.9e+06</td>\n",
       "</tr>\n",
       "<tr>\n",
       "  <th>Temperature</th>  <td> -885.6699</td> <td>  396.195</td> <td>   -2.235</td> <td> 0.025</td> <td>-1662.345</td> <td> -108.995</td>\n",
       "</tr>\n",
       "<tr>\n",
       "  <th>Fuel_Price</th>   <td>-1.225e+04</td> <td> 1.58e+04</td> <td>   -0.778</td> <td> 0.437</td> <td>-4.31e+04</td> <td> 1.86e+04</td>\n",
       "</tr>\n",
       "<tr>\n",
       "  <th>CPI</th>          <td>-1585.8180</td> <td>  195.164</td> <td>   -8.126</td> <td> 0.000</td> <td>-1968.404</td> <td>-1203.232</td>\n",
       "</tr>\n",
       "<tr>\n",
       "  <th>Unemployment</th> <td>-4.121e+04</td> <td> 3972.667</td> <td>  -10.375</td> <td> 0.000</td> <td> -4.9e+04</td> <td>-3.34e+04</td>\n",
       "</tr>\n",
       "</table>\n",
       "<table class=\"simpletable\">\n",
       "<tr>\n",
       "  <th>Omnibus:</th>       <td>370.623</td> <th>  Durbin-Watson:     </th> <td>   0.113</td>\n",
       "</tr>\n",
       "<tr>\n",
       "  <th>Prob(Omnibus):</th> <td> 0.000</td>  <th>  Jarque-Bera (JB):  </th> <td> 437.779</td>\n",
       "</tr>\n",
       "<tr>\n",
       "  <th>Skew:</th>          <td> 0.639</td>  <th>  Prob(JB):          </th> <td>8.66e-96</td>\n",
       "</tr>\n",
       "<tr>\n",
       "  <th>Kurtosis:</th>      <td> 3.010</td>  <th>  Cond. No.          </th> <td>2.16e+03</td>\n",
       "</tr>\n",
       "</table><br/><br/>Notes:<br/>[1] Standard Errors assume that the covariance matrix of the errors is correctly specified.<br/>[2] The condition number is large, 2.16e+03. This might indicate that there are<br/>strong multicollinearity or other numerical problems."
      ],
      "text/plain": [
       "<class 'statsmodels.iolib.summary.Summary'>\n",
       "\"\"\"\n",
       "                            OLS Regression Results                            \n",
       "==============================================================================\n",
       "Dep. Variable:           Weekly_Sales   R-squared:                       0.024\n",
       "Model:                            OLS   Adj. R-squared:                  0.024\n",
       "Method:                 Least Squares   F-statistic:                     40.09\n",
       "Date:                Fri, 20 Aug 2021   Prob (F-statistic):           3.21e-33\n",
       "Time:                        13:36:58   Log-Likelihood:                -94273.\n",
       "No. Observations:                6435   AIC:                         1.886e+05\n",
       "Df Residuals:                    6430   BIC:                         1.886e+05\n",
       "Df Model:                           4                                         \n",
       "Covariance Type:            nonrobust                                         \n",
       "================================================================================\n",
       "                   coef    std err          t      P>|t|      [0.025      0.975]\n",
       "--------------------------------------------------------------------------------\n",
       "Intercept     1.744e+06   7.96e+04     21.918      0.000    1.59e+06     1.9e+06\n",
       "Temperature   -885.6699    396.195     -2.235      0.025   -1662.345    -108.995\n",
       "Fuel_Price   -1.225e+04   1.58e+04     -0.778      0.437   -4.31e+04    1.86e+04\n",
       "CPI          -1585.8180    195.164     -8.126      0.000   -1968.404   -1203.232\n",
       "Unemployment -4.121e+04   3972.667    -10.375      0.000    -4.9e+04   -3.34e+04\n",
       "==============================================================================\n",
       "Omnibus:                      370.623   Durbin-Watson:                   0.113\n",
       "Prob(Omnibus):                  0.000   Jarque-Bera (JB):              437.779\n",
       "Skew:                           0.639   Prob(JB):                     8.66e-96\n",
       "Kurtosis:                       3.010   Cond. No.                     2.16e+03\n",
       "==============================================================================\n",
       "\n",
       "Notes:\n",
       "[1] Standard Errors assume that the covariance matrix of the errors is correctly specified.\n",
       "[2] The condition number is large, 2.16e+03. This might indicate that there are\n",
       "strong multicollinearity or other numerical problems.\n",
       "\"\"\""
      ]
     },
     "execution_count": 106,
     "metadata": {},
     "output_type": "execute_result"
    }
   ],
   "source": [
    "lm.summary()"
   ]
  },
  {
   "cell_type": "markdown",
   "id": "008df7ae-2e13-4949-bb30-5bc1cc0ea716",
   "metadata": {},
   "source": [
    "<b>Since, CPI and Unemployment has less p-value. It is statistically significant and has impact on Sales"
   ]
  },
  {
   "cell_type": "code",
   "execution_count": 117,
   "id": "b40f9537-a5fd-477f-b0d7-18ca20d7850e",
   "metadata": {},
   "outputs": [],
   "source": [
    "df['Day'] = df['Date'].dt.day_name()"
   ]
  },
  {
   "cell_type": "code",
   "execution_count": 118,
   "id": "505c6e6a-e4d6-485b-8678-0c1124dba2e9",
   "metadata": {},
   "outputs": [
    {
     "data": {
      "text/html": [
       "<div>\n",
       "<style scoped>\n",
       "    .dataframe tbody tr th:only-of-type {\n",
       "        vertical-align: middle;\n",
       "    }\n",
       "\n",
       "    .dataframe tbody tr th {\n",
       "        vertical-align: top;\n",
       "    }\n",
       "\n",
       "    .dataframe thead th {\n",
       "        text-align: right;\n",
       "    }\n",
       "</style>\n",
       "<table border=\"1\" class=\"dataframe\">\n",
       "  <thead>\n",
       "    <tr style=\"text-align: right;\">\n",
       "      <th></th>\n",
       "      <th>Store</th>\n",
       "      <th>Date</th>\n",
       "      <th>Weekly_Sales</th>\n",
       "      <th>Holiday_Flag</th>\n",
       "      <th>Temperature</th>\n",
       "      <th>Fuel_Price</th>\n",
       "      <th>CPI</th>\n",
       "      <th>Unemployment</th>\n",
       "      <th>quarter</th>\n",
       "      <th>Day</th>\n",
       "    </tr>\n",
       "  </thead>\n",
       "  <tbody>\n",
       "    <tr>\n",
       "      <th>0</th>\n",
       "      <td>1</td>\n",
       "      <td>2010-02-05</td>\n",
       "      <td>1643690.90</td>\n",
       "      <td>0</td>\n",
       "      <td>42.31</td>\n",
       "      <td>2.572</td>\n",
       "      <td>211.096358</td>\n",
       "      <td>8.106</td>\n",
       "      <td>1</td>\n",
       "      <td>Friday</td>\n",
       "    </tr>\n",
       "    <tr>\n",
       "      <th>1</th>\n",
       "      <td>1</td>\n",
       "      <td>2010-02-12</td>\n",
       "      <td>1641957.44</td>\n",
       "      <td>1</td>\n",
       "      <td>38.51</td>\n",
       "      <td>2.548</td>\n",
       "      <td>211.242170</td>\n",
       "      <td>8.106</td>\n",
       "      <td>1</td>\n",
       "      <td>Friday</td>\n",
       "    </tr>\n",
       "    <tr>\n",
       "      <th>2</th>\n",
       "      <td>1</td>\n",
       "      <td>2010-02-19</td>\n",
       "      <td>1611968.17</td>\n",
       "      <td>0</td>\n",
       "      <td>39.93</td>\n",
       "      <td>2.514</td>\n",
       "      <td>211.289143</td>\n",
       "      <td>8.106</td>\n",
       "      <td>1</td>\n",
       "      <td>Friday</td>\n",
       "    </tr>\n",
       "    <tr>\n",
       "      <th>3</th>\n",
       "      <td>1</td>\n",
       "      <td>2010-02-26</td>\n",
       "      <td>1409727.59</td>\n",
       "      <td>0</td>\n",
       "      <td>46.63</td>\n",
       "      <td>2.561</td>\n",
       "      <td>211.319643</td>\n",
       "      <td>8.106</td>\n",
       "      <td>1</td>\n",
       "      <td>Friday</td>\n",
       "    </tr>\n",
       "    <tr>\n",
       "      <th>4</th>\n",
       "      <td>1</td>\n",
       "      <td>2010-03-05</td>\n",
       "      <td>1554806.68</td>\n",
       "      <td>0</td>\n",
       "      <td>46.50</td>\n",
       "      <td>2.625</td>\n",
       "      <td>211.350143</td>\n",
       "      <td>8.106</td>\n",
       "      <td>1</td>\n",
       "      <td>Friday</td>\n",
       "    </tr>\n",
       "  </tbody>\n",
       "</table>\n",
       "</div>"
      ],
      "text/plain": [
       "   Store       Date  Weekly_Sales  Holiday_Flag  Temperature  Fuel_Price  \\\n",
       "0      1 2010-02-05    1643690.90             0        42.31       2.572   \n",
       "1      1 2010-02-12    1641957.44             1        38.51       2.548   \n",
       "2      1 2010-02-19    1611968.17             0        39.93       2.514   \n",
       "3      1 2010-02-26    1409727.59             0        46.63       2.561   \n",
       "4      1 2010-03-05    1554806.68             0        46.50       2.625   \n",
       "\n",
       "          CPI  Unemployment  quarter     Day  \n",
       "0  211.096358         8.106        1  Friday  \n",
       "1  211.242170         8.106        1  Friday  \n",
       "2  211.289143         8.106        1  Friday  \n",
       "3  211.319643         8.106        1  Friday  \n",
       "4  211.350143         8.106        1  Friday  "
      ]
     },
     "execution_count": 118,
     "metadata": {},
     "output_type": "execute_result"
    }
   ],
   "source": [
    "df.head()"
   ]
  },
  {
   "cell_type": "code",
   "execution_count": null,
   "id": "2735f1a0-382c-4223-a4e2-626306eadfd7",
   "metadata": {},
   "outputs": [],
   "source": []
  }
 ],
 "metadata": {
  "kernelspec": {
   "display_name": "Python 3",
   "language": "python",
   "name": "python3"
  },
  "language_info": {
   "codemirror_mode": {
    "name": "ipython",
    "version": 3
   },
   "file_extension": ".py",
   "mimetype": "text/x-python",
   "name": "python",
   "nbconvert_exporter": "python",
   "pygments_lexer": "ipython3",
   "version": "3.8.8"
  }
 },
 "nbformat": 4,
 "nbformat_minor": 5
}
